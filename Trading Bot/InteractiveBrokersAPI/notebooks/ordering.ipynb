{
 "cells": [
  {
   "cell_type": "markdown",
   "metadata": {},
   "source": [
    "# Ordering\n",
    "\n",
    "\n",
    "## Warning: This notebook will place live orders\n",
    "\n",
    "Use a paper trading account (during market hours).\n"
   ]
  },
  {
   "cell_type": "code",
   "execution_count": 1,
   "metadata": {
    "scrolled": true
   },
   "outputs": [
    {
     "data": {
      "text/plain": [
       "<IB connected to 127.0.0.1:7497 clientId=13>"
      ]
     },
     "execution_count": 1,
     "metadata": {},
     "output_type": "execute_result"
    }
   ],
   "source": [
    "from ib_insync import *\n",
    "util.startLoop()\n",
    "\n",
    "ib = IB()\n",
    "ib.connect('127.0.0.1', 7497, clientId=13)\n",
    "# util.logToConsole()"
   ]
  },
  {
   "cell_type": "markdown",
   "metadata": {},
   "source": [
    "Create a contract and a market order:"
   ]
  },
  {
   "cell_type": "code",
   "execution_count": 3,
   "metadata": {},
   "outputs": [
    {
     "name": "stdout",
     "output_type": "stream",
     "text": [
      "Buy Signal Found...\n",
      "Trade(contract=Forex('EURUSD', conId=12087792, exchange='IDEALPRO', localSymbol='EUR.USD', tradingClass='EUR.USD'), order=MarketOrder(orderId=256, clientId=13, action='BUY', totalQuantity=1000), orderStatus=OrderStatus(orderId=256, status='PendingSubmit', filled=0.0, remaining=0.0, avgFillPrice=0.0, permId=0, parentId=0, lastFillPrice=0.0, clientId=0, whyHeld='', mktCapPrice=0.0), fills=[], log=[TradeLogEntry(time=datetime.datetime(2024, 6, 5, 11, 8, 17, 41570, tzinfo=datetime.timezone.utc), status='PendingSubmit', message='', errorCode=0)], advancedError='')\n",
      "Buy Order Placed.\n"
     ]
    }
   ],
   "source": [
    "contract = Forex('EURUSD')\n",
    "ib.qualifyContracts(contract)\n",
    "ib.reqMktData(contract, '', False, False)\n",
    "diff = 2e-2\n",
    "TPBuy = 1.0885\n",
    "SLBuy = 1.085\n",
    "lotsize = 1000\n",
    "print(\"Buy Signal Found...\")\n",
    "order = MarketOrder('BUY', lotsize)\n",
    "stopLoss = StopOrder('SELL',lotsize, SLBuy)\n",
    "takeProfit = LimitOrder('SELL', lotsize, TPBuy)\n",
    "print(ib.placeOrder(contract, order))\n",
    "ib.placeOrder(contract, stopLoss)\n",
    "ib.placeOrder(contract, takeProfit)\n",
    "print(\"Buy Order Placed.\")"
   ]
  },
  {
   "cell_type": "code",
   "execution_count": 4,
   "metadata": {},
   "outputs": [
    {
     "data": {
      "text/plain": [
       "Trade(contract=Forex('EURUSD', conId=12087792, exchange='IDEALPRO', localSymbol='EUR.USD', tradingClass='EUR.USD'), order=LimitOrder(orderId=261, clientId=13, action='BUY', totalQuantity=1000, lmtPrice=1.085), orderStatus=OrderStatus(orderId=261, status='PendingSubmit', filled=0.0, remaining=0.0, avgFillPrice=0.0, permId=0, parentId=0, lastFillPrice=0.0, clientId=0, whyHeld='', mktCapPrice=0.0), fills=[], log=[TradeLogEntry(time=datetime.datetime(2024, 6, 5, 11, 8, 43, 369426, tzinfo=datetime.timezone.utc), status='PendingSubmit', message='', errorCode=0)], advancedError='')"
      ]
     },
     "execution_count": 4,
     "metadata": {},
     "output_type": "execute_result"
    },
    {
     "name": "stderr",
     "output_type": "stream",
     "text": [
      "Error 1100, reqId -1: Connectivity between IBKR and Trader Workstation has been lost.\n",
      "Error 1102, reqId -1: Connectivity between IBKR and Trader Workstation has been restored - data maintained. All data farms are connected: usfarm.nj; cashfarm; usfarm; euhmds; cashhmds; fundfarm; ushmds; secdefil.\n",
      "Error 1100, reqId -1: Connectivity between IBKR and Trader Workstation has been lost.\n",
      "Error 1102, reqId -1: Connectivity between IBKR and Trader Workstation has been restored - data maintained. All data farms are connected: usfarm.nj; cashfarm; usfarm; euhmds; cashhmds; fundfarm; ushmds; secdefil.\n",
      "Error 1100, reqId -1: Connectivity between IBKR and Trader Workstation has been lost.\n",
      "Error 1102, reqId -1: Connectivity between IBKR and Trader Workstation has been restored - data maintained. All data farms are connected: usfarm.nj; cashfarm; usfarm; euhmds; cashhmds; fundfarm; ushmds; secdefil.\n",
      "Error 1100, reqId -1: Connectivity between IBKR and Trader Workstation has been lost.\n",
      "Error 1100, reqId -1: Connectivity between IBKR and Trader Workstation has been lost.\n",
      "Error 1102, reqId -1: Connectivity between IBKR and Trader Workstation has been restored - data maintained. All data farms are connected: usfarm.nj; cashfarm; usfarm; euhmds; cashhmds; fundfarm; ushmds; secdefil.\n",
      "Error 1100, reqId -1: Connectivity between IBKR and Trader Workstation has been lost.\n",
      "Peer closed connection.\n"
     ]
    }
   ],
   "source": [
    "TPSell = 1.085\n",
    "SLSell  = 1.0891\n",
    "\n",
    "order = MarketOrder('SELL', lotsize)\n",
    "stopLoss = StopOrder('BUY',lotsize, SLSell)\n",
    "takeProfit = LimitOrder('BUY', lotsize, TPSell)\n",
    "ib.placeOrder(contract, order)\n",
    "ib.placeOrder(contract, stopLoss)\n",
    "ib.placeOrder(contract, takeProfit)"
   ]
  },
  {
   "cell_type": "markdown",
   "metadata": {},
   "source": [
    "placeOrder will place the order order and return a ``Trade`` object right away (non-blocking):"
   ]
  },
  {
   "cell_type": "code",
   "execution_count": 21,
   "metadata": {},
   "outputs": [],
   "source": [
    "trade = ib.placeOrder(contract, order)"
   ]
  },
  {
   "cell_type": "markdown",
   "metadata": {},
   "source": [
    "``trade`` contains the order and everything related to it, such as order status, fills and a log.\n",
    "It will be live updated with every status change or fill of the order."
   ]
  },
  {
   "cell_type": "code",
   "execution_count": 10,
   "metadata": {
    "scrolled": true
   },
   "outputs": [
    {
     "data": {
      "text/plain": [
       "[TradeLogEntry(time=datetime.datetime(2024, 6, 4, 13, 15, 39, 664878, tzinfo=datetime.timezone.utc), status='PendingSubmit', message='', errorCode=0),\n",
       " TradeLogEntry(time=datetime.datetime(2024, 6, 4, 13, 15, 39, 798448, tzinfo=datetime.timezone.utc), status='PreSubmitted', message='', errorCode=0),\n",
       " TradeLogEntry(time=datetime.datetime(2024, 6, 4, 13, 15, 39, 828478, tzinfo=datetime.timezone.utc), status='PreSubmitted', message='Fill 100.0@1.08635', errorCode=0),\n",
       " TradeLogEntry(time=datetime.datetime(2024, 6, 4, 13, 15, 39, 828478, tzinfo=datetime.timezone.utc), status='Filled', message='', errorCode=0)]"
      ]
     },
     "execution_count": 10,
     "metadata": {},
     "output_type": "execute_result"
    }
   ],
   "source": [
    "ib.sleep(1)\n",
    "trade.log"
   ]
  },
  {
   "cell_type": "markdown",
   "metadata": {},
   "source": [
    "``trade`` will also available from ``ib.trades()``:"
   ]
  },
  {
   "cell_type": "code",
   "execution_count": 15,
   "metadata": {},
   "outputs": [
    {
     "name": "stdout",
     "output_type": "stream",
     "text": [
      "[]\n"
     ]
    }
   ],
   "source": [
    "assert trade in ib.trades()\n"
   ]
  },
  {
   "cell_type": "markdown",
   "metadata": {},
   "source": [
    "Likewise for ``order``:"
   ]
  },
  {
   "cell_type": "code",
   "execution_count": 12,
   "metadata": {},
   "outputs": [],
   "source": [
    "assert order in ib.orders()"
   ]
  },
  {
   "cell_type": "markdown",
   "metadata": {},
   "source": [
    "Now let's create a limit order with an unrealistic limit:"
   ]
  },
  {
   "cell_type": "code",
   "execution_count": 16,
   "metadata": {},
   "outputs": [
    {
     "data": {
      "text/plain": [
       "Trade(contract=Forex('EURUSD', conId=12087792, exchange='IDEALPRO', localSymbol='EUR.USD', tradingClass='EUR.USD'), order=LimitOrder(orderId=35, clientId=13, action='BUY', totalQuantity=30, lmtPrice=1.05), orderStatus=OrderStatus(orderId=35, status='PendingSubmit', filled=0.0, remaining=0.0, avgFillPrice=0.0, permId=0, parentId=0, lastFillPrice=0.0, clientId=0, whyHeld='', mktCapPrice=0.0), fills=[], log=[TradeLogEntry(time=datetime.datetime(2024, 6, 4, 13, 18, 0, 647234, tzinfo=datetime.timezone.utc), status='PendingSubmit', message='', errorCode=0)], advancedError='')"
      ]
     },
     "execution_count": 16,
     "metadata": {},
     "output_type": "execute_result"
    }
   ],
   "source": [
    "limitOrder = LimitOrder('BUY', 30, 1.05)\n",
    "limitTrade = ib.placeOrder(contract, limitOrder)\n",
    "\n",
    "limitTrade"
   ]
  },
  {
   "cell_type": "markdown",
   "metadata": {},
   "source": [
    "``status`` will change from \"PendingSubmit\" to \"Submitted\":"
   ]
  },
  {
   "cell_type": "code",
   "execution_count": 20,
   "metadata": {},
   "outputs": [
    {
     "name": "stdout",
     "output_type": "stream",
     "text": [
      "[]\n"
     ]
    },
    {
     "data": {
      "text/plain": [
       "0"
      ]
     },
     "execution_count": 20,
     "metadata": {},
     "output_type": "execute_result"
    }
   ],
   "source": [
    "ib.sleep(1)\n",
    "#assert limitTrade.orderStatus.status == 'Submitted'\n",
    "\n",
    "print(ib.openTrades())\n",
    "def count_opened_trades():\n",
    "    account_summary = ib.accountSummary()\n",
    "    eur_balance = None\n",
    "    for item in account_summary:\n",
    "        if item.tag == 'CashBalance' and item.currency == 'EUR':\n",
    "            eur_balance = float(item.value)\n",
    "    if eur_balance > 5000 or eur_balance < 4000:\n",
    "        return 1\n",
    "    else:\n",
    "        return 0\n",
    "\n",
    "count_opened_trades()\n",
    "\n"
   ]
  },
  {
   "cell_type": "code",
   "execution_count": 43,
   "metadata": {},
   "outputs": [
    {
     "data": {
      "text/plain": [
       "BarData(date=datetime.datetime(2024, 6, 4, 10, 35, tzinfo=backports.zoneinfo.ZoneInfo(key='US/Eastern')), open=1.08703, high=1.087065, low=1.08677, close=1.086985, volume=-1.0, average=-1.0, barCount=-1)"
      ]
     },
     "execution_count": 43,
     "metadata": {},
     "output_type": "execute_result"
    }
   ],
   "source": [
    "import pandas_ta as ta\n",
    "import pandas as pd\n",
    "\n",
    "def ema_signal(df, current_candle, backcandles):\n",
    "    start = max(0, current_candle - backcandles)\n",
    "    end = current_candle\n",
    "    relevant_rows = df.iloc[start:end]\n",
    "    if all(relevant_rows[\"EMA_fast\"] < relevant_rows[\"EMA_slow\"]):\n",
    "        return 1\n",
    "    elif all(relevant_rows[\"EMA_fast\"] > relevant_rows[\"EMA_slow\"]):\n",
    "        return 2\n",
    "    else:\n",
    "        return 0\n",
    "    \n",
    "def total_signal(df, current_candle, backcandles):\n",
    "    if (ema_signal(df, current_candle, backcandles)==2\n",
    "        and df.close[current_candle]<=df['BBL_15_1.5'][current_candle]\n",
    "        #and df.RSI[current_candle]<60\n",
    "        ):\n",
    "            return 2\n",
    "    if (ema_signal(df, current_candle, backcandles)==1\n",
    "        and df.close[current_candle]>=df['BBU_15_1.5'][current_candle]\n",
    "        #and df.RSI[current_candle]>40\n",
    "        ):\n",
    "    \n",
    "            return 1\n",
    "    return 0\n",
    "\n",
    "def get_bars(durationStr,barSizeSetting):\n",
    "    bars = ib.reqHistoricalData(contract, endDateTime='', durationStr=durationStr,barSizeSetting=barSizeSetting, whatToShow='MIDPOINT', useRTH=True, formatDate=1,keepUpToDate=True)\n",
    "    return bars\n",
    "\n",
    "def get_candles_frame(durationStr,barSizeSetting):\n",
    "    bars = get_bars(durationStr,barSizeSetting)\n",
    "    dfstream = pd.DataFrame(columns=['date','open','high','low','close'])\n",
    "    for i in range(len(bars)):\n",
    "        dfstream.loc[i,'date'] = bars[i].date\n",
    "        dfstream.loc[i,'open'] = bars[i].open\n",
    "        dfstream.loc[i,'high'] = bars[i].high\n",
    "        dfstream.loc[i,'low'] = bars[i].low\n",
    "        dfstream.loc[i,'close'] = bars[i].close\n",
    "    dfstream[\"ATR\"] = ta.atr(dfstream.high, dfstream.low, dfstream.close, length=7)\n",
    "    dfstream[\"EMA_fast\"]=ta.ema(dfstream.close, length=30)\n",
    "    dfstream[\"EMA_slow\"]=ta.ema(dfstream.close, length=50)\n",
    "    dfstream['RSI']=ta.rsi(dfstream.close, length=10)\n",
    "    my_bbands = ta.bbands(dfstream.close, length=15, std=1.5)\n",
    "    dfstream=dfstream.join(my_bbands) \n",
    "    dfstream['TotalSignal'] = dfstream.apply(lambda row: total_signal(dfstream, row.name, 7), axis=1)\n",
    "    dfstream.set_index('date', inplace=True)\n",
    "    dfstream.index = dfstream.index.tz_convert('Europe/Paris')\n",
    "    return dfstream\n",
    "\n",
    "pd.set_option('display.max_rows', None)\n",
    "df = get_candles_frame('1 D','5 mins')\n",
    "df.tail(10)\n",
    "\n"
   ]
  },
  {
   "cell_type": "code",
   "execution_count": 31,
   "metadata": {},
   "outputs": [],
   "source": [
    "assert limitTrade in ib.openTrades()"
   ]
  },
  {
   "cell_type": "markdown",
   "metadata": {},
   "source": [
    "Let's modify the limit price and resubmit:"
   ]
  },
  {
   "cell_type": "code",
   "execution_count": 32,
   "metadata": {},
   "outputs": [
    {
     "data": {
      "text/plain": [
       "Trade(contract=Forex('EURUSD', conId=12087792, exchange='IDEALPRO', localSymbol='EUR.USD', tradingClass='EUR.USD'), order=LimitOrder(orderId=18, clientId=13, permId=1579293976, action='BUY', totalQuantity=30.0, lmtPrice=0.1, auxPrice=0.0), orderStatus=OrderStatus(orderId=18, status='Submitted', filled=0.0, remaining=30.0, avgFillPrice=0.0, permId=1579293976, parentId=0, lastFillPrice=0.0, clientId=13, whyHeld='', mktCapPrice=0.0), fills=[], log=[TradeLogEntry(time=datetime.datetime(2024, 6, 3, 15, 56, 22, 503252, tzinfo=datetime.timezone.utc), status='PendingSubmit', message='', errorCode=0), TradeLogEntry(time=datetime.datetime(2024, 6, 3, 15, 56, 22, 617408, tzinfo=datetime.timezone.utc), status='PreSubmitted', message='', errorCode=0), TradeLogEntry(time=datetime.datetime(2024, 6, 3, 15, 56, 22, 641088, tzinfo=datetime.timezone.utc), status='Submitted', message='', errorCode=0), TradeLogEntry(time=datetime.datetime(2024, 6, 3, 15, 56, 33, 353698, tzinfo=datetime.timezone.utc), status='Submitted', message='Modify', errorCode=0)], advancedError='')"
      ]
     },
     "execution_count": 32,
     "metadata": {},
     "output_type": "execute_result"
    }
   ],
   "source": [
    "limitOrder.lmtPrice = 0.10\n",
    "\n",
    "ib.placeOrder(contract, limitOrder)"
   ]
  },
  {
   "cell_type": "markdown",
   "metadata": {},
   "source": [
    "And now cancel it:"
   ]
  },
  {
   "cell_type": "code",
   "execution_count": 33,
   "metadata": {},
   "outputs": [
    {
     "data": {
      "text/plain": [
       "Trade(contract=Forex('EURUSD', conId=12087792, exchange='IDEALPRO', localSymbol='EUR.USD', tradingClass='EUR.USD'), order=LimitOrder(orderId=18, clientId=13, permId=1579293976, action='BUY', totalQuantity=30.0, lmtPrice=0.1, auxPrice=0.0), orderStatus=OrderStatus(orderId=18, status='PendingCancel', filled=0.0, remaining=30.0, avgFillPrice=0.0, permId=1579293976, parentId=0, lastFillPrice=0.0, clientId=13, whyHeld='', mktCapPrice=0.0), fills=[], log=[TradeLogEntry(time=datetime.datetime(2024, 6, 3, 15, 56, 22, 503252, tzinfo=datetime.timezone.utc), status='PendingSubmit', message='', errorCode=0), TradeLogEntry(time=datetime.datetime(2024, 6, 3, 15, 56, 22, 617408, tzinfo=datetime.timezone.utc), status='PreSubmitted', message='', errorCode=0), TradeLogEntry(time=datetime.datetime(2024, 6, 3, 15, 56, 22, 641088, tzinfo=datetime.timezone.utc), status='Submitted', message='', errorCode=0), TradeLogEntry(time=datetime.datetime(2024, 6, 3, 15, 56, 33, 353698, tzinfo=datetime.timezone.utc), status='Submitted', message='Modify', errorCode=0), TradeLogEntry(time=datetime.datetime(2024, 6, 3, 15, 56, 33, 463276, tzinfo=datetime.timezone.utc), status='PreSubmitted', message='', errorCode=0), TradeLogEntry(time=datetime.datetime(2024, 6, 3, 15, 56, 33, 483651, tzinfo=datetime.timezone.utc), status='Submitted', message='', errorCode=0), TradeLogEntry(time=datetime.datetime(2024, 6, 3, 15, 56, 45, 234321, tzinfo=datetime.timezone.utc), status='PendingCancel', message='', errorCode=0)], advancedError='')"
      ]
     },
     "execution_count": 33,
     "metadata": {},
     "output_type": "execute_result"
    }
   ],
   "source": [
    "ib.cancelOrder(limitOrder)"
   ]
  },
  {
   "cell_type": "code",
   "execution_count": 34,
   "metadata": {},
   "outputs": [
    {
     "data": {
      "text/plain": [
       "[TradeLogEntry(time=datetime.datetime(2024, 6, 3, 15, 56, 22, 503252, tzinfo=datetime.timezone.utc), status='PendingSubmit', message='', errorCode=0),\n",
       " TradeLogEntry(time=datetime.datetime(2024, 6, 3, 15, 56, 22, 617408, tzinfo=datetime.timezone.utc), status='PreSubmitted', message='', errorCode=0),\n",
       " TradeLogEntry(time=datetime.datetime(2024, 6, 3, 15, 56, 22, 641088, tzinfo=datetime.timezone.utc), status='Submitted', message='', errorCode=0),\n",
       " TradeLogEntry(time=datetime.datetime(2024, 6, 3, 15, 56, 33, 353698, tzinfo=datetime.timezone.utc), status='Submitted', message='Modify', errorCode=0),\n",
       " TradeLogEntry(time=datetime.datetime(2024, 6, 3, 15, 56, 33, 463276, tzinfo=datetime.timezone.utc), status='PreSubmitted', message='', errorCode=0),\n",
       " TradeLogEntry(time=datetime.datetime(2024, 6, 3, 15, 56, 33, 483651, tzinfo=datetime.timezone.utc), status='Submitted', message='', errorCode=0),\n",
       " TradeLogEntry(time=datetime.datetime(2024, 6, 3, 15, 56, 45, 234321, tzinfo=datetime.timezone.utc), status='PendingCancel', message='', errorCode=0),\n",
       " TradeLogEntry(time=datetime.datetime(2024, 6, 3, 15, 56, 45, 355589, tzinfo=datetime.timezone.utc), status='Cancelled', message='', errorCode=0)]"
      ]
     },
     "execution_count": 34,
     "metadata": {},
     "output_type": "execute_result"
    }
   ],
   "source": [
    "limitTrade.log"
   ]
  },
  {
   "cell_type": "markdown",
   "metadata": {},
   "source": [
    "placeOrder is not blocking and will not wait on what happens with the order.\n",
    "To make the order placement blocking, that is to wait until the order is either\n",
    "filled or canceled, consider the following:"
   ]
  },
  {
   "cell_type": "code",
   "execution_count": 35,
   "metadata": {},
   "outputs": [
    {
     "name": "stdout",
     "output_type": "stream",
     "text": [
      "Wall time: 139 ms\n"
     ]
    }
   ],
   "source": [
    "%%time\n",
    "order = MarketOrder('BUY', 30)\n",
    "\n",
    "trade = ib.placeOrder(contract, order)\n",
    "while not trade.isDone():\n",
    "    ib.waitOnUpdate()"
   ]
  },
  {
   "cell_type": "markdown",
   "metadata": {},
   "source": [
    "What are our positions?"
   ]
  },
  {
   "cell_type": "code",
   "execution_count": 36,
   "metadata": {
    "scrolled": true
   },
   "outputs": [
    {
     "data": {
      "text/plain": [
       "[Position(account='DU9038516', contract=Forex('EURUSD', conId=12087792, localSymbol='EUR.USD', tradingClass='EUR.USD'), position=30.0, avgCost=1.1725835944143037)]"
      ]
     },
     "execution_count": 36,
     "metadata": {},
     "output_type": "execute_result"
    }
   ],
   "source": [
    "ib.positions()"
   ]
  },
  {
   "cell_type": "markdown",
   "metadata": {},
   "source": [
    "What's the total of commissions paid today?"
   ]
  },
  {
   "cell_type": "code",
   "execution_count": 44,
   "metadata": {},
   "outputs": [
    {
     "data": {
      "text/plain": [
       "9.2176"
      ]
     },
     "execution_count": 44,
     "metadata": {},
     "output_type": "execute_result"
    }
   ],
   "source": [
    "sum(fill.commissionReport.commission for fill in ib.fills())"
   ]
  },
  {
   "cell_type": "markdown",
   "metadata": {},
   "source": [
    "whatIfOrder can be used to see the commission and the margin impact of an order without actually sending the order:"
   ]
  },
  {
   "cell_type": "code",
   "execution_count": 43,
   "metadata": {},
   "outputs": [
    {
     "data": {
      "text/plain": [
       "OrderState(status='PreSubmitted', initMarginBefore='1.7976931348623157E308', maintMarginBefore='1.7976931348623157E308', equityWithLoanBefore='1.7976931348623157E308', initMarginChange='1.7976931348623157E308', maintMarginChange='1.7976931348623157E308', equityWithLoanChange='1.7976931348623157E308', initMarginAfter='1.7976931348623157E308', maintMarginAfter='1.7976931348623157E308', equityWithLoanAfter='1.7976931348623157E308', commission=1.7976931348623157e+308, minCommission=1.7976931348623157e+308, maxCommission=1.7976931348623157e+308, commissionCurrency='', warningText='Important Note: Your order size is below the EUR 20000 IdealPro minimum.\\nYou may cancel and increase the order size if you wish to route to IdealPro\\nor select the Transmit button to route as an odd lot order.\\nNote that odd lot orders are not guaranteed executions at the IdealPro displayed quotes.', completedTime='', completedStatus='')"
      ]
     },
     "execution_count": 43,
     "metadata": {},
     "output_type": "execute_result"
    }
   ],
   "source": [
    "order = MarketOrder('SELL', 30)\n",
    "trade = ib.placeOrder(contract, order)\n",
    "while not trade.isDone():\n",
    "    ib.waitOnUpdate()\n",
    "ib.whatIfOrder(contract, order)"
   ]
  },
  {
   "cell_type": "code",
   "execution_count": 118,
   "metadata": {},
   "outputs": [],
   "source": [
    "ib.disconnect()"
   ]
  }
 ],
 "metadata": {
  "kernelspec": {
   "display_name": "Python 3",
   "language": "python",
   "name": "python3"
  },
  "language_info": {
   "codemirror_mode": {
    "name": "ipython",
    "version": 3
   },
   "file_extension": ".py",
   "mimetype": "text/x-python",
   "name": "python",
   "nbconvert_exporter": "python",
   "pygments_lexer": "ipython3",
   "version": "3.8.8"
  }
 },
 "nbformat": 4,
 "nbformat_minor": 4
}
