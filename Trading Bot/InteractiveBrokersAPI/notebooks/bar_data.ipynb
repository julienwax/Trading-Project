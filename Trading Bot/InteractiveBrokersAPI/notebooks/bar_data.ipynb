{
 "cells": [
  {
   "cell_type": "markdown",
   "metadata": {},
   "source": [
    "# Bar data"
   ]
  },
  {
   "cell_type": "code",
   "execution_count": 15,
   "metadata": {},
   "outputs": [
    {
     "data": {
      "text/plain": [
       "<IB connected to 127.0.0.1:7497 clientId=14>"
      ]
     },
     "execution_count": 15,
     "metadata": {},
     "output_type": "execute_result"
    }
   ],
   "source": [
    "from ib_insync import *\n",
    "util.startLoop()\n",
    "\n",
    "ib = IB()\n",
    "ib.connect('127.0.0.1', 7497, clientId=14)"
   ]
  },
  {
   "cell_type": "markdown",
   "metadata": {},
   "source": [
    "## Historical data"
   ]
  },
  {
   "cell_type": "markdown",
   "metadata": {},
   "source": [
    "To get the earliest date of available bar data the \"head timestamp\" can be requested:"
   ]
  },
  {
   "cell_type": "code",
   "execution_count": 10,
   "metadata": {},
   "outputs": [
    {
     "data": {
      "text/plain": [
       "datetime.datetime(2015, 1, 2, 14, 30)"
      ]
     },
     "execution_count": 10,
     "metadata": {},
     "output_type": "execute_result"
    }
   ],
   "source": [
    "contract = Stock('AMD', 'SMART', 'USD')\n",
    "\n",
    "ib.reqHeadTimeStamp(contract, whatToShow='TRADES', useRTH=True)"
   ]
  },
  {
   "cell_type": "markdown",
   "metadata": {},
   "source": [
    "To request hourly data of the last 60 trading days:"
   ]
  },
  {
   "cell_type": "code",
   "execution_count": 11,
   "metadata": {},
   "outputs": [],
   "source": [
    "bars = ib.reqHistoricalData(\n",
    "        contract,\n",
    "        endDateTime='',\n",
    "        durationStr='3 Y',\n",
    "        barSizeSetting='1 hour',\n",
    "        whatToShow='TRADES',\n",
    "        useRTH=True,\n",
    "        formatDate=1)"
   ]
  },
  {
   "cell_type": "code",
   "execution_count": 7,
   "metadata": {},
   "outputs": [
    {
     "data": {
      "text/plain": [
       "BarData(date=datetime.datetime(2021, 6, 25, 11, 0, tzinfo=backports.zoneinfo.ZoneInfo(key='US/Eastern')), open=85.59, high=85.9, low=85.48, close=85.87, volume=28456.01, average=85.681, barCount=12402)"
      ]
     },
     "execution_count": 7,
     "metadata": {},
     "output_type": "execute_result"
    }
   ],
   "source": [
    "bars[100]\n",
    "#len(bars)\n"
   ]
  },
  {
   "cell_type": "markdown",
   "metadata": {},
   "source": [
    "Convert the list of bars to a data frame and print the first and last rows:"
   ]
  },
  {
   "cell_type": "code",
   "execution_count": 87,
   "metadata": {},
   "outputs": [
    {
     "data": {
      "text/html": [
       "<div>\n",
       "<style scoped>\n",
       "    .dataframe tbody tr th:only-of-type {\n",
       "        vertical-align: middle;\n",
       "    }\n",
       "\n",
       "    .dataframe tbody tr th {\n",
       "        vertical-align: top;\n",
       "    }\n",
       "\n",
       "    .dataframe thead th {\n",
       "        text-align: right;\n",
       "    }\n",
       "</style>\n",
       "<table border=\"1\" class=\"dataframe\">\n",
       "  <thead>\n",
       "    <tr style=\"text-align: right;\">\n",
       "      <th></th>\n",
       "      <th>open</th>\n",
       "      <th>high</th>\n",
       "      <th>low</th>\n",
       "      <th>close</th>\n",
       "      <th>volume</th>\n",
       "    </tr>\n",
       "    <tr>\n",
       "      <th>date</th>\n",
       "      <th></th>\n",
       "      <th></th>\n",
       "      <th></th>\n",
       "      <th></th>\n",
       "      <th></th>\n",
       "    </tr>\n",
       "  </thead>\n",
       "  <tbody>\n",
       "    <tr>\n",
       "      <th>2024-05-31 19:00:00+02:00</th>\n",
       "      <td>161.44</td>\n",
       "      <td>163.26</td>\n",
       "      <td>161.34</td>\n",
       "      <td>162.32</td>\n",
       "      <td>38034.24</td>\n",
       "    </tr>\n",
       "    <tr>\n",
       "      <th>2024-05-31 20:00:00+02:00</th>\n",
       "      <td>162.33</td>\n",
       "      <td>163.17</td>\n",
       "      <td>162.03</td>\n",
       "      <td>163.0</td>\n",
       "      <td>27398.47</td>\n",
       "    </tr>\n",
       "    <tr>\n",
       "      <th>2024-05-31 21:00:00+02:00</th>\n",
       "      <td>163.0</td>\n",
       "      <td>167.28</td>\n",
       "      <td>162.79</td>\n",
       "      <td>167.27</td>\n",
       "      <td>89604.86</td>\n",
       "    </tr>\n",
       "    <tr>\n",
       "      <th>2024-06-03 15:30:00+02:00</th>\n",
       "      <td>170.8</td>\n",
       "      <td>171.08</td>\n",
       "      <td>166.74</td>\n",
       "      <td>166.86</td>\n",
       "      <td>87306.96</td>\n",
       "    </tr>\n",
       "    <tr>\n",
       "      <th>2024-06-03 16:00:00+02:00</th>\n",
       "      <td>166.94</td>\n",
       "      <td>167.61</td>\n",
       "      <td>164.08</td>\n",
       "      <td>164.22</td>\n",
       "      <td>89539.78</td>\n",
       "    </tr>\n",
       "  </tbody>\n",
       "</table>\n",
       "</div>"
      ],
      "text/plain": [
       "                             open    high     low   close    volume\n",
       "date                                                               \n",
       "2024-05-31 19:00:00+02:00  161.44  163.26  161.34  162.32  38034.24\n",
       "2024-05-31 20:00:00+02:00  162.33  163.17  162.03   163.0  27398.47\n",
       "2024-05-31 21:00:00+02:00   163.0  167.28  162.79  167.27  89604.86\n",
       "2024-06-03 15:30:00+02:00   170.8  171.08  166.74  166.86  87306.96\n",
       "2024-06-03 16:00:00+02:00  166.94  167.61  164.08  164.22  89539.78"
      ]
     },
     "execution_count": 87,
     "metadata": {},
     "output_type": "execute_result"
    }
   ],
   "source": [
    "import pandas as pd\n",
    "df = pd.DataFrame(columns=['date', 'open', 'high', 'low', 'close', 'volume'])\n",
    "for i in range(len(bars)):\n",
    "    df.loc[i,'date'] = bars[i].date\n",
    "    df.loc[i,'open'] = bars[i].open\n",
    "    df.loc[i,'high'] = bars[i].high\n",
    "    df.loc[i,'low'] = bars[i].low\n",
    "    df.loc[i,'close'] = bars[i].close\n",
    "    df.loc[i,'volume'] = bars[i].volume   \n",
    "df.set_index('date', inplace=True)\n",
    "df.index = df.index.tz_convert('Europe/Paris')\n",
    "df.tail()\n"
   ]
  },
  {
   "cell_type": "markdown",
   "metadata": {},
   "source": [
    "Instruct the notebook to draw plot graphics inline:"
   ]
  },
  {
   "cell_type": "code",
   "execution_count": 88,
   "metadata": {},
   "outputs": [],
   "source": [
    "%matplotlib inline"
   ]
  },
  {
   "cell_type": "markdown",
   "metadata": {},
   "source": [
    "Plot the close data"
   ]
  },
  {
   "cell_type": "code",
   "execution_count": 89,
   "metadata": {},
   "outputs": [
    {
     "data": {
      "image/png": "[encoded data removed]",
      "text/plain": [
       "<Figure size 432x288 with 1 Axes>"
      ]
     },
     "metadata": {
      "needs_background": "light"
     },
     "output_type": "display_data"
    }
   ],
   "source": [
    "df.plot(y='open');"
   ]
  },
  {
   "cell_type": "markdown",
   "metadata": {},
   "source": [
    "There is also a utility function to plot bars as a candlestick plot. It can accept either a DataFrame or a list of bars. Here it will print the last 100 bars:"
   ]
  },
  {
   "cell_type": "code",
   "execution_count": 90,
   "metadata": {
    "scrolled": true
   },
   "outputs": [
    {
     "data": {
      "image/png": "[encoded data removed]",
      "text/plain": [
       "<Figure size 720x432 with 1 Axes>"
      ]
     },
     "metadata": {
      "needs_background": "light"
     },
     "output_type": "display_data"
    }
   ],
   "source": [
    "util.barplot(bars[-100:], title=contract.symbol);"
   ]
  },
  {
   "cell_type": "markdown",
   "metadata": {},
   "source": [
    "## Historical data with realtime updates\n",
    "\n",
    "A new feature of the API is to get live updates for historical bars. This is done by setting `endDateTime` to an empty string and the `keepUpToDate` parameter to `True`.\n",
    "\n",
    "Let's get some bars with an keepUpToDate subscription:"
   ]
  },
  {
   "cell_type": "code",
   "execution_count": 19,
   "metadata": {},
   "outputs": [
    {
     "data": {
      "text/plain": [
       "[BarData(date=datetime.datetime(2024, 6, 4, 10, 27, 50, tzinfo=backports.zoneinfo.ZoneInfo(key='US/Eastern')), open=1.08677, high=1.086815, low=1.08673, close=1.086775, volume=-1.0, average=-1.0, barCount=-1),\n",
       " BarData(date=datetime.datetime(2024, 6, 4, 10, 28, tzinfo=backports.zoneinfo.ZoneInfo(key='US/Eastern')), open=1.086775, high=1.08694, low=1.086775, close=1.08694, volume=-1.0, average=-1.0, barCount=-1),\n",
       " BarData(date=datetime.datetime(2024, 6, 4, 10, 28, 10, tzinfo=backports.zoneinfo.ZoneInfo(key='US/Eastern')), open=1.08694, high=1.086965, low=1.086925, close=1.08695, volume=-1.0, average=-1.0, barCount=-1),\n",
       " BarData(date=datetime.datetime(2024, 6, 4, 10, 28, 20, tzinfo=backports.zoneinfo.ZoneInfo(key='US/Eastern')), open=1.08695, high=1.08695, low=1.08684, close=1.08688, volume=-1.0, average=-1.0, barCount=-1),\n",
       " BarData(date=datetime.datetime(2024, 6, 4, 10, 28, 30, tzinfo=backports.zoneinfo.ZoneInfo(key='US/Eastern')), open=1.08688, high=1.08688, low=1.08682, close=1.08688, volume=-1.0, average=-1.0, barCount=-1),\n",
       " BarData(date=datetime.datetime(2024, 6, 4, 10, 28, 40, tzinfo=backports.zoneinfo.ZoneInfo(key='US/Eastern')), open=1.08688, high=1.086925, low=1.08686, close=1.086875, volume=-1.0, average=-1.0, barCount=-1),\n",
       " BarData(date=datetime.datetime(2024, 6, 4, 10, 28, 50, tzinfo=backports.zoneinfo.ZoneInfo(key='US/Eastern')), open=1.086875, high=1.086895, low=1.08686, close=1.08688, volume=-1.0, average=-1.0, barCount=-1),\n",
       " BarData(date=datetime.datetime(2024, 6, 4, 10, 29, tzinfo=backports.zoneinfo.ZoneInfo(key='US/Eastern')), open=1.08688, high=1.08692, low=1.08688, close=1.08688, volume=-1.0, average=-1.0, barCount=-1),\n",
       " BarData(date=datetime.datetime(2024, 6, 4, 10, 29, 10, tzinfo=backports.zoneinfo.ZoneInfo(key='US/Eastern')), open=1.08688, high=1.08692, low=1.08686, close=1.086885, volume=-1.0, average=-1.0, barCount=-1),\n",
       " BarData(date=datetime.datetime(2024, 6, 4, 10, 29, 20, tzinfo=backports.zoneinfo.ZoneInfo(key='US/Eastern')), open=1.086885, high=1.086935, low=1.086855, close=1.086925, volume=-1.0, average=-1.0, barCount=-1),\n",
       " BarData(date=datetime.datetime(2024, 6, 4, 10, 29, 30, tzinfo=backports.zoneinfo.ZoneInfo(key='US/Eastern')), open=1.086925, high=1.086995, low=1.086925, close=1.086955, volume=-1.0, average=-1.0, barCount=-1),\n",
       " BarData(date=datetime.datetime(2024, 6, 4, 10, 29, 40, tzinfo=backports.zoneinfo.ZoneInfo(key='US/Eastern')), open=1.086955, high=1.087025, low=1.086945, close=1.086975, volume=-1.0, average=-1.0, barCount=-1),\n",
       " BarData(date=datetime.datetime(2024, 6, 4, 10, 29, 50, tzinfo=backports.zoneinfo.ZoneInfo(key='US/Eastern')), open=1.086975, high=1.087045, low=1.08694, close=1.08703, volume=-1.0, average=-1.0, barCount=-1),\n",
       " BarData(date=datetime.datetime(2024, 6, 4, 10, 30, tzinfo=backports.zoneinfo.ZoneInfo(key='US/Eastern')), open=1.08703, high=1.08703, low=1.086905, close=1.086905, volume=-1.0, average=-1.0, barCount=-1),\n",
       " BarData(date=datetime.datetime(2024, 6, 4, 10, 30, 10, tzinfo=backports.zoneinfo.ZoneInfo(key='US/Eastern')), open=1.086905, high=1.086905, low=1.08686, close=1.086875, volume=-1.0, average=-1.0, barCount=-1),\n",
       " BarData(date=datetime.datetime(2024, 6, 4, 10, 30, 20, tzinfo=backports.zoneinfo.ZoneInfo(key='US/Eastern')), open=1.086875, high=1.086925, low=1.086865, close=1.08692, volume=-1.0, average=-1.0, barCount=-1),\n",
       " BarData(date=datetime.datetime(2024, 6, 4, 10, 30, 30, tzinfo=backports.zoneinfo.ZoneInfo(key='US/Eastern')), open=1.08692, high=1.08697, low=1.08692, close=1.086945, volume=-1.0, average=-1.0, barCount=-1),\n",
       " BarData(date=datetime.datetime(2024, 6, 4, 10, 30, 40, tzinfo=backports.zoneinfo.ZoneInfo(key='US/Eastern')), open=1.086945, high=1.086975, low=1.08692, close=1.086935, volume=-1.0, average=-1.0, barCount=-1),\n",
       " BarData(date=datetime.datetime(2024, 6, 4, 10, 30, 50, tzinfo=backports.zoneinfo.ZoneInfo(key='US/Eastern')), open=1.086935, high=1.08698, low=1.086925, close=1.086935, volume=-1.0, average=-1.0, barCount=-1),\n",
       " BarData(date=datetime.datetime(2024, 6, 4, 10, 31, tzinfo=backports.zoneinfo.ZoneInfo(key='US/Eastern')), open=1.086935, high=1.086975, low=1.08692, close=1.086975, volume=-1.0, average=-1.0, barCount=-1),\n",
       " BarData(date=datetime.datetime(2024, 6, 4, 10, 31, 10, tzinfo=backports.zoneinfo.ZoneInfo(key='US/Eastern')), open=1.086975, high=1.086985, low=1.08694, close=1.086985, volume=-1.0, average=-1.0, barCount=-1),\n",
       " BarData(date=datetime.datetime(2024, 6, 4, 10, 31, 20, tzinfo=backports.zoneinfo.ZoneInfo(key='US/Eastern')), open=1.086985, high=1.086985, low=1.086945, close=1.08697, volume=-1.0, average=-1.0, barCount=-1),\n",
       " BarData(date=datetime.datetime(2024, 6, 4, 10, 31, 30, tzinfo=backports.zoneinfo.ZoneInfo(key='US/Eastern')), open=1.08697, high=1.08703, low=1.086945, close=1.086985, volume=-1.0, average=-1.0, barCount=-1),\n",
       " BarData(date=datetime.datetime(2024, 6, 4, 10, 31, 40, tzinfo=backports.zoneinfo.ZoneInfo(key='US/Eastern')), open=1.086985, high=1.087105, low=1.086975, close=1.087075, volume=-1.0, average=-1.0, barCount=-1),\n",
       " BarData(date=datetime.datetime(2024, 6, 4, 10, 31, 50, tzinfo=backports.zoneinfo.ZoneInfo(key='US/Eastern')), open=1.087075, high=1.087125, low=1.087075, close=1.087105, volume=-1.0, average=-1.0, barCount=-1),\n",
       " BarData(date=datetime.datetime(2024, 6, 4, 10, 32, tzinfo=backports.zoneinfo.ZoneInfo(key='US/Eastern')), open=1.087105, high=1.087215, low=1.087105, close=1.08716, volume=-1.0, average=-1.0, barCount=-1),\n",
       " BarData(date=datetime.datetime(2024, 6, 4, 10, 32, 10, tzinfo=backports.zoneinfo.ZoneInfo(key='US/Eastern')), open=1.08716, high=1.08716, low=1.08712, close=1.087125, volume=-1.0, average=-1.0, barCount=-1),\n",
       " BarData(date=datetime.datetime(2024, 6, 4, 10, 32, 20, tzinfo=backports.zoneinfo.ZoneInfo(key='US/Eastern')), open=1.087125, high=1.087175, low=1.087105, close=1.08713, volume=-1.0, average=-1.0, barCount=-1),\n",
       " BarData(date=datetime.datetime(2024, 6, 4, 10, 32, 30, tzinfo=backports.zoneinfo.ZoneInfo(key='US/Eastern')), open=1.08713, high=1.087175, low=1.08713, close=1.087165, volume=-1.0, average=-1.0, barCount=-1),\n",
       " BarData(date=datetime.datetime(2024, 6, 4, 10, 32, 40, tzinfo=backports.zoneinfo.ZoneInfo(key='US/Eastern')), open=1.087165, high=1.087175, low=1.087105, close=1.087125, volume=-1.0, average=-1.0, barCount=-1),\n",
       " BarData(date=datetime.datetime(2024, 6, 4, 10, 32, 50, tzinfo=backports.zoneinfo.ZoneInfo(key='US/Eastern')), open=1.087125, high=1.087135, low=1.08712, close=1.087125, volume=-1.0, average=-1.0, barCount=-1),\n",
       " BarData(date=datetime.datetime(2024, 6, 4, 10, 33, tzinfo=backports.zoneinfo.ZoneInfo(key='US/Eastern')), open=1.087125, high=1.087155, low=1.08706, close=1.087075, volume=-1.0, average=-1.0, barCount=-1),\n",
       " BarData(date=datetime.datetime(2024, 6, 4, 10, 33, 10, tzinfo=backports.zoneinfo.ZoneInfo(key='US/Eastern')), open=1.087075, high=1.087075, low=1.08704, close=1.08704, volume=-1.0, average=-1.0, barCount=-1),\n",
       " BarData(date=datetime.datetime(2024, 6, 4, 10, 33, 20, tzinfo=backports.zoneinfo.ZoneInfo(key='US/Eastern')), open=1.08704, high=1.08712, low=1.08704, close=1.087075, volume=-1.0, average=-1.0, barCount=-1),\n",
       " BarData(date=datetime.datetime(2024, 6, 4, 10, 33, 30, tzinfo=backports.zoneinfo.ZoneInfo(key='US/Eastern')), open=1.087075, high=1.087135, low=1.08699, close=1.087015, volume=-1.0, average=-1.0, barCount=-1),\n",
       " BarData(date=datetime.datetime(2024, 6, 4, 10, 33, 40, tzinfo=backports.zoneinfo.ZoneInfo(key='US/Eastern')), open=1.087015, high=1.087025, low=1.0869, close=1.08695, volume=-1.0, average=-1.0, barCount=-1),\n",
       " BarData(date=datetime.datetime(2024, 6, 4, 10, 33, 50, tzinfo=backports.zoneinfo.ZoneInfo(key='US/Eastern')), open=1.08695, high=1.08698, low=1.08694, close=1.08694, volume=-1.0, average=-1.0, barCount=-1),\n",
       " BarData(date=datetime.datetime(2024, 6, 4, 10, 34, tzinfo=backports.zoneinfo.ZoneInfo(key='US/Eastern')), open=1.08694, high=1.087095, low=1.08694, close=1.087035, volume=-1.0, average=-1.0, barCount=-1),\n",
       " BarData(date=datetime.datetime(2024, 6, 4, 10, 34, 10, tzinfo=backports.zoneinfo.ZoneInfo(key='US/Eastern')), open=1.087035, high=1.08704, low=1.08697, close=1.087005, volume=-1.0, average=-1.0, barCount=-1),\n",
       " BarData(date=datetime.datetime(2024, 6, 4, 10, 34, 20, tzinfo=backports.zoneinfo.ZoneInfo(key='US/Eastern')), open=1.087005, high=1.087015, low=1.086975, close=1.08698, volume=-1.0, average=-1.0, barCount=-1),\n",
       " BarData(date=datetime.datetime(2024, 6, 4, 10, 34, 30, tzinfo=backports.zoneinfo.ZoneInfo(key='US/Eastern')), open=1.08698, high=1.087035, low=1.08691, close=1.08692, volume=-1.0, average=-1.0, barCount=-1),\n",
       " BarData(date=datetime.datetime(2024, 6, 4, 10, 34, 40, tzinfo=backports.zoneinfo.ZoneInfo(key='US/Eastern')), open=1.08692, high=1.086925, low=1.08686, close=1.086875, volume=-1.0, average=-1.0, barCount=-1),\n",
       " BarData(date=datetime.datetime(2024, 6, 4, 10, 34, 50, tzinfo=backports.zoneinfo.ZoneInfo(key='US/Eastern')), open=1.086875, high=1.08703, low=1.086865, close=1.08703, volume=-1.0, average=-1.0, barCount=-1),\n",
       " BarData(date=datetime.datetime(2024, 6, 4, 10, 35, tzinfo=backports.zoneinfo.ZoneInfo(key='US/Eastern')), open=1.08703, high=1.08703, low=1.086935, close=1.08694, volume=-1.0, average=-1.0, barCount=-1),\n",
       " BarData(date=datetime.datetime(2024, 6, 4, 10, 35, 10, tzinfo=backports.zoneinfo.ZoneInfo(key='US/Eastern')), open=1.08694, high=1.08703, low=1.08694, close=1.087025, volume=-1.0, average=-1.0, barCount=-1),\n",
       " BarData(date=datetime.datetime(2024, 6, 4, 10, 35, 20, tzinfo=backports.zoneinfo.ZoneInfo(key='US/Eastern')), open=1.087025, high=1.08703, low=1.086825, close=1.08684, volume=-1.0, average=-1.0, barCount=-1),\n",
       " BarData(date=datetime.datetime(2024, 6, 4, 10, 35, 30, tzinfo=backports.zoneinfo.ZoneInfo(key='US/Eastern')), open=1.08684, high=1.086895, low=1.08683, close=1.086875, volume=-1.0, average=-1.0, barCount=-1),\n",
       " BarData(date=datetime.datetime(2024, 6, 4, 10, 35, 40, tzinfo=backports.zoneinfo.ZoneInfo(key='US/Eastern')), open=1.086875, high=1.086885, low=1.086825, close=1.086835, volume=-1.0, average=-1.0, barCount=-1),\n",
       " BarData(date=datetime.datetime(2024, 6, 4, 10, 35, 50, tzinfo=backports.zoneinfo.ZoneInfo(key='US/Eastern')), open=1.086835, high=1.086855, low=1.08678, close=1.08684, volume=-1.0, average=-1.0, barCount=-1),\n",
       " BarData(date=datetime.datetime(2024, 6, 4, 10, 36, tzinfo=backports.zoneinfo.ZoneInfo(key='US/Eastern')), open=1.08684, high=1.086845, low=1.086775, close=1.086775, volume=-1.0, average=-1.0, barCount=-1),\n",
       " BarData(date=datetime.datetime(2024, 6, 4, 10, 36, 10, tzinfo=backports.zoneinfo.ZoneInfo(key='US/Eastern')), open=1.086775, high=1.086875, low=1.08677, close=1.086875, volume=-1.0, average=-1.0, barCount=-1),\n",
       " BarData(date=datetime.datetime(2024, 6, 4, 10, 36, 20, tzinfo=backports.zoneinfo.ZoneInfo(key='US/Eastern')), open=1.086875, high=1.08694, low=1.086875, close=1.086925, volume=-1.0, average=-1.0, barCount=-1),\n",
       " BarData(date=datetime.datetime(2024, 6, 4, 10, 36, 30, tzinfo=backports.zoneinfo.ZoneInfo(key='US/Eastern')), open=1.086925, high=1.086925, low=1.08688, close=1.086925, volume=-1.0, average=-1.0, barCount=-1),\n",
       " BarData(date=datetime.datetime(2024, 6, 4, 10, 36, 40, tzinfo=backports.zoneinfo.ZoneInfo(key='US/Eastern')), open=1.086925, high=1.087015, low=1.086925, close=1.086975, volume=-1.0, average=-1.0, barCount=-1),\n",
       " BarData(date=datetime.datetime(2024, 6, 4, 10, 36, 50, tzinfo=backports.zoneinfo.ZoneInfo(key='US/Eastern')), open=1.086975, high=1.086975, low=1.086935, close=1.08694, volume=-1.0, average=-1.0, barCount=-1),\n",
       " BarData(date=datetime.datetime(2024, 6, 4, 10, 37, tzinfo=backports.zoneinfo.ZoneInfo(key='US/Eastern')), open=1.08694, high=1.086975, low=1.08694, close=1.086975, volume=-1.0, average=-1.0, barCount=-1),\n",
       " BarData(date=datetime.datetime(2024, 6, 4, 10, 37, 10, tzinfo=backports.zoneinfo.ZoneInfo(key='US/Eastern')), open=1.086975, high=1.08704, low=1.086965, close=1.087035, volume=-1.0, average=-1.0, barCount=-1),\n",
       " BarData(date=datetime.datetime(2024, 6, 4, 10, 37, 20, tzinfo=backports.zoneinfo.ZoneInfo(key='US/Eastern')), open=1.087035, high=1.087065, low=1.086985, close=1.087025, volume=-1.0, average=-1.0, barCount=-1),\n",
       " BarData(date=datetime.datetime(2024, 6, 4, 10, 37, 30, tzinfo=backports.zoneinfo.ZoneInfo(key='US/Eastern')), open=1.087025, high=1.08714, low=1.087015, close=1.087135, volume=-1.0, average=-1.0, barCount=-1),\n",
       " BarData(date=datetime.datetime(2024, 6, 4, 10, 37, 40, tzinfo=backports.zoneinfo.ZoneInfo(key='US/Eastern')), open=1.087135, high=1.087145, low=1.087065, close=1.08708, volume=-1.0, average=-1.0, barCount=-1),\n",
       " BarData(date=datetime.datetime(2024, 6, 4, 10, 37, 50, tzinfo=backports.zoneinfo.ZoneInfo(key='US/Eastern')), open=1.08708, high=1.087095, low=1.08707, close=1.087085, volume=-1.0, average=-1.0, barCount=-1),\n",
       " BarData(date=datetime.datetime(2024, 6, 4, 10, 38, tzinfo=backports.zoneinfo.ZoneInfo(key='US/Eastern')), open=1.087085, high=1.087085, low=1.08705, close=1.087075, volume=-1.0, average=-1.0, barCount=-1),\n",
       " BarData(date=datetime.datetime(2024, 6, 4, 10, 38, 10, tzinfo=backports.zoneinfo.ZoneInfo(key='US/Eastern')), open=1.087075, high=1.087095, low=1.087035, close=1.087055, volume=-1.0, average=-1.0, barCount=-1),\n",
       " BarData(date=datetime.datetime(2024, 6, 4, 10, 38, 20, tzinfo=backports.zoneinfo.ZoneInfo(key='US/Eastern')), open=1.087055, high=1.087075, low=1.08705, close=1.087065, volume=-1.0, average=-1.0, barCount=-1),\n",
       " BarData(date=datetime.datetime(2024, 6, 4, 10, 38, 30, tzinfo=backports.zoneinfo.ZoneInfo(key='US/Eastern')), open=1.087065, high=1.087125, low=1.087065, close=1.087125, volume=-1.0, average=-1.0, barCount=-1),\n",
       " BarData(date=datetime.datetime(2024, 6, 4, 10, 38, 40, tzinfo=backports.zoneinfo.ZoneInfo(key='US/Eastern')), open=1.087125, high=1.087175, low=1.087125, close=1.087135, volume=-1.0, average=-1.0, barCount=-1),\n",
       " BarData(date=datetime.datetime(2024, 6, 4, 10, 38, 50, tzinfo=backports.zoneinfo.ZoneInfo(key='US/Eastern')), open=1.087135, high=1.087145, low=1.08712, close=1.087125, volume=-1.0, average=-1.0, barCount=-1),\n",
       " BarData(date=datetime.datetime(2024, 6, 4, 10, 39, tzinfo=backports.zoneinfo.ZoneInfo(key='US/Eastern')), open=1.087125, high=1.08722, low=1.087125, close=1.087175, volume=-1.0, average=-1.0, barCount=-1),\n",
       " BarData(date=datetime.datetime(2024, 6, 4, 10, 39, 10, tzinfo=backports.zoneinfo.ZoneInfo(key='US/Eastern')), open=1.087175, high=1.087215, low=1.087165, close=1.087215, volume=-1.0, average=-1.0, barCount=-1),\n",
       " BarData(date=datetime.datetime(2024, 6, 4, 10, 39, 20, tzinfo=backports.zoneinfo.ZoneInfo(key='US/Eastern')), open=1.087215, high=1.08723, low=1.087215, close=1.08723, volume=-1.0, average=-1.0, barCount=-1),\n",
       " BarData(date=datetime.datetime(2024, 6, 4, 10, 39, 30, tzinfo=backports.zoneinfo.ZoneInfo(key='US/Eastern')), open=1.08723, high=1.08723, low=1.08721, close=1.08722, volume=-1.0, average=-1.0, barCount=-1),\n",
       " BarData(date=datetime.datetime(2024, 6, 4, 10, 39, 40, tzinfo=backports.zoneinfo.ZoneInfo(key='US/Eastern')), open=1.08722, high=1.08728, low=1.087215, close=1.087255, volume=-1.0, average=-1.0, barCount=-1),\n",
       " BarData(date=datetime.datetime(2024, 6, 4, 10, 39, 50, tzinfo=backports.zoneinfo.ZoneInfo(key='US/Eastern')), open=1.087255, high=1.087335, low=1.087245, close=1.087325, volume=-1.0, average=-1.0, barCount=-1),\n",
       " BarData(date=datetime.datetime(2024, 6, 4, 10, 40, tzinfo=backports.zoneinfo.ZoneInfo(key='US/Eastern')), open=1.087325, high=1.087375, low=1.087295, close=1.087305, volume=-1.0, average=-1.0, barCount=-1),\n",
       " BarData(date=datetime.datetime(2024, 6, 4, 10, 40, 10, tzinfo=backports.zoneinfo.ZoneInfo(key='US/Eastern')), open=1.087305, high=1.08735, low=1.087295, close=1.08735, volume=-1.0, average=-1.0, barCount=-1),\n",
       " BarData(date=datetime.datetime(2024, 6, 4, 10, 40, 20, tzinfo=backports.zoneinfo.ZoneInfo(key='US/Eastern')), open=1.08735, high=1.08735, low=1.08728, close=1.0873, volume=-1.0, average=-1.0, barCount=-1),\n",
       " BarData(date=datetime.datetime(2024, 6, 4, 10, 40, 30, tzinfo=backports.zoneinfo.ZoneInfo(key='US/Eastern')), open=1.0873, high=1.087335, low=1.0873, close=1.087325, volume=-1.0, average=-1.0, barCount=-1),\n",
       " BarData(date=datetime.datetime(2024, 6, 4, 10, 40, 40, tzinfo=backports.zoneinfo.ZoneInfo(key='US/Eastern')), open=1.087325, high=1.08737, low=1.087325, close=1.08736, volume=-1.0, average=-1.0, barCount=-1),\n",
       " BarData(date=datetime.datetime(2024, 6, 4, 10, 40, 50, tzinfo=backports.zoneinfo.ZoneInfo(key='US/Eastern')), open=1.08736, high=1.087405, low=1.087295, close=1.08738, volume=-1.0, average=-1.0, barCount=-1),\n",
       " BarData(date=datetime.datetime(2024, 6, 4, 10, 41, tzinfo=backports.zoneinfo.ZoneInfo(key='US/Eastern')), open=1.08738, high=1.08748, low=1.08738, close=1.08748, volume=-1.0, average=-1.0, barCount=-1),\n",
       " BarData(date=datetime.datetime(2024, 6, 4, 10, 41, 10, tzinfo=backports.zoneinfo.ZoneInfo(key='US/Eastern')), open=1.08748, high=1.087495, low=1.08745, close=1.087475, volume=-1.0, average=-1.0, barCount=-1),\n",
       " BarData(date=datetime.datetime(2024, 6, 4, 10, 41, 20, tzinfo=backports.zoneinfo.ZoneInfo(key='US/Eastern')), open=1.087475, high=1.087525, low=1.087475, close=1.087515, volume=-1.0, average=-1.0, barCount=-1),\n",
       " BarData(date=datetime.datetime(2024, 6, 4, 10, 41, 30, tzinfo=backports.zoneinfo.ZoneInfo(key='US/Eastern')), open=1.087515, high=1.087515, low=1.08744, close=1.087475, volume=-1.0, average=-1.0, barCount=-1),\n",
       " BarData(date=datetime.datetime(2024, 6, 4, 10, 41, 40, tzinfo=backports.zoneinfo.ZoneInfo(key='US/Eastern')), open=1.087475, high=1.08751, low=1.087455, close=1.08747, volume=-1.0, average=-1.0, barCount=-1),\n",
       " BarData(date=datetime.datetime(2024, 6, 4, 10, 41, 50, tzinfo=backports.zoneinfo.ZoneInfo(key='US/Eastern')), open=1.08747, high=1.087525, low=1.08747, close=1.08752, volume=-1.0, average=-1.0, barCount=-1),\n",
       " BarData(date=datetime.datetime(2024, 6, 4, 10, 42, tzinfo=backports.zoneinfo.ZoneInfo(key='US/Eastern')), open=1.08752, high=1.087535, low=1.08751, close=1.087525, volume=-1.0, average=-1.0, barCount=-1),\n",
       " BarData(date=datetime.datetime(2024, 6, 4, 10, 42, 10, tzinfo=backports.zoneinfo.ZoneInfo(key='US/Eastern')), open=1.087525, high=1.087575, low=1.08752, close=1.087575, volume=-1.0, average=-1.0, barCount=-1),\n",
       " BarData(date=datetime.datetime(2024, 6, 4, 10, 42, 20, tzinfo=backports.zoneinfo.ZoneInfo(key='US/Eastern')), open=1.087575, high=1.087595, low=1.087525, close=1.087585, volume=-1.0, average=-1.0, barCount=-1),\n",
       " BarData(date=datetime.datetime(2024, 6, 4, 10, 42, 30, tzinfo=backports.zoneinfo.ZoneInfo(key='US/Eastern')), open=1.087585, high=1.087595, low=1.087545, close=1.087575, volume=-1.0, average=-1.0, barCount=-1),\n",
       " BarData(date=datetime.datetime(2024, 6, 4, 10, 42, 40, tzinfo=backports.zoneinfo.ZoneInfo(key='US/Eastern')), open=1.087575, high=1.08763, low=1.08756, close=1.087585, volume=-1.0, average=-1.0, barCount=-1),\n",
       " BarData(date=datetime.datetime(2024, 6, 4, 10, 42, 50, tzinfo=backports.zoneinfo.ZoneInfo(key='US/Eastern')), open=1.087585, high=1.087585, low=1.08756, close=1.08756, volume=-1.0, average=-1.0, barCount=-1)]"
      ]
     },
     "execution_count": 19,
     "metadata": {},
     "output_type": "execute_result"
    }
   ],
   "source": [
    "contract = Forex('EURUSD')\n",
    "\n",
    "bars = ib.reqHistoricalData(\n",
    "        contract,\n",
    "        endDateTime='',\n",
    "        durationStr='900 S',\n",
    "        barSizeSetting='10 secs',\n",
    "        whatToShow='MIDPOINT',\n",
    "        useRTH=True,\n",
    "        formatDate=1,\n",
    "        keepUpToDate=True)\n",
    "\n",
    "bars"
   ]
  },
  {
   "cell_type": "markdown",
   "metadata": {},
   "source": [
    "Replot for every change of the last bar:"
   ]
  },
  {
   "cell_type": "code",
   "execution_count": 92,
   "metadata": {
    "scrolled": true
   },
   "outputs": [
    {
     "data": {
      "image/png": "[encoded data removed]",
      "text/plain": [
       "<Figure size 720x432 with 1 Axes>"
      ]
     },
     "metadata": {},
     "output_type": "display_data"
    },
    {
     "data": {
      "image/png": "[encoded data removed]",
      "text/plain": [
       "<Figure size 720x432 with 1 Axes>"
      ]
     },
     "metadata": {
      "needs_background": "light"
     },
     "output_type": "display_data"
    },
    {
     "name": "stderr",
     "output_type": "stream",
     "text": [
      "Error 162, reqId 5: Historical Market Data Service error message:API historical data query cancelled: 5\n"
     ]
    }
   ],
   "source": [
    "from IPython.display import display, clear_output\n",
    "import matplotlib.pyplot as plt\n",
    "\n",
    "def onBarUpdate(bars, hasNewBar):\n",
    "    plt.close()\n",
    "    plot = util.barplot(bars)\n",
    "    clear_output(wait=True)\n",
    "    display(plot)\n",
    "\n",
    "bars.updateEvent += onBarUpdate\n",
    "\n",
    "ib.sleep(10)\n",
    "ib.cancelHistoricalData(bars)\n"
   ]
  },
  {
   "cell_type": "markdown",
   "metadata": {},
   "source": [
    "Realtime bars\n",
    "------------------\n",
    "\n",
    "With ``reqRealTimeBars`` a subscription is started that sends a new bar every 5 seconds.\n",
    "\n",
    "First we'll set up a event handler for bar updates:"
   ]
  },
  {
   "cell_type": "code",
   "execution_count": 93,
   "metadata": {},
   "outputs": [],
   "source": [
    "def onBarUpdate(bars, hasNewBar):\n",
    "    print(bars[-1])"
   ]
  },
  {
   "cell_type": "markdown",
   "metadata": {},
   "source": [
    "Then do the real request and connect the event handler,"
   ]
  },
  {
   "cell_type": "code",
   "execution_count": 94,
   "metadata": {},
   "outputs": [
    {
     "name": "stdout",
     "output_type": "stream",
     "text": [
      "RealTimeBar(time=datetime.datetime(2024, 6, 3, 15, 4, 50, tzinfo=datetime.timezone.utc), endTime=-1, open_=1.08758, high=1.087635, low=1.087575, close=1.087625, volume=-1.0, wap=-1.0, count=-1)\n",
      "RealTimeBar(time=datetime.datetime(2024, 6, 3, 15, 4, 55, tzinfo=datetime.timezone.utc), endTime=-1, open_=1.087625, high=1.08763, low=1.087605, close=1.08761, volume=-1.0, wap=-1.0, count=-1)\n",
      "RealTimeBar(time=datetime.datetime(2024, 6, 3, 15, 5, tzinfo=datetime.timezone.utc), endTime=-1, open_=1.08761, high=1.087665, low=1.08761, close=1.08764, volume=-1.0, wap=-1.0, count=-1)\n",
      "RealTimeBar(time=datetime.datetime(2024, 6, 3, 15, 5, 5, tzinfo=datetime.timezone.utc), endTime=-1, open_=1.08764, high=1.08764, low=1.08758, close=1.087585, volume=-1.0, wap=-1.0, count=-1)\n",
      "RealTimeBar(time=datetime.datetime(2024, 6, 3, 15, 5, 10, tzinfo=datetime.timezone.utc), endTime=-1, open_=1.087585, high=1.087585, low=1.087565, close=1.08757, volume=-1.0, wap=-1.0, count=-1)\n",
      "RealTimeBar(time=datetime.datetime(2024, 6, 3, 15, 5, 15, tzinfo=datetime.timezone.utc), endTime=-1, open_=1.08757, high=1.087585, low=1.08757, close=1.087575, volume=-1.0, wap=-1.0, count=-1)\n"
     ]
    }
   ],
   "source": [
    "bars = ib.reqRealTimeBars(contract, 5, 'MIDPOINT', False)\n",
    "bars.updateEvent += onBarUpdate\n"
   ]
  },
  {
   "cell_type": "markdown",
   "metadata": {},
   "source": [
    "let it run for half a minute and then cancel the realtime bars."
   ]
  },
  {
   "cell_type": "code",
   "execution_count": 95,
   "metadata": {},
   "outputs": [
    {
     "name": "stdout",
     "output_type": "stream",
     "text": [
      "RealTimeBar(time=datetime.datetime(2024, 6, 3, 15, 5, 20, tzinfo=datetime.timezone.utc), endTime=-1, open_=1.087575, high=1.08758, low=1.087565, close=1.08757, volume=-1.0, wap=-1.0, count=-1)\n",
      "RealTimeBar(time=datetime.datetime(2024, 6, 3, 15, 5, 25, tzinfo=datetime.timezone.utc), endTime=-1, open_=1.08757, high=1.087575, low=1.087565, close=1.087575, volume=-1.0, wap=-1.0, count=-1)\n",
      "RealTimeBar(time=datetime.datetime(2024, 6, 3, 15, 5, 30, tzinfo=datetime.timezone.utc), endTime=-1, open_=1.087575, high=1.087615, low=1.08757, close=1.087585, volume=-1.0, wap=-1.0, count=-1)\n",
      "RealTimeBar(time=datetime.datetime(2024, 6, 3, 15, 5, 35, tzinfo=datetime.timezone.utc), endTime=-1, open_=1.087585, high=1.087615, low=1.08758, close=1.087615, volume=-1.0, wap=-1.0, count=-1)\n",
      "RealTimeBar(time=datetime.datetime(2024, 6, 3, 15, 5, 40, tzinfo=datetime.timezone.utc), endTime=-1, open_=1.087615, high=1.087615, low=1.08761, close=1.087615, volume=-1.0, wap=-1.0, count=-1)\n",
      "RealTimeBar(time=datetime.datetime(2024, 6, 3, 15, 5, 45, tzinfo=datetime.timezone.utc), endTime=-1, open_=1.087615, high=1.087615, low=1.0876, close=1.0876, volume=-1.0, wap=-1.0, count=-1)\n"
     ]
    }
   ],
   "source": [
    "ib.sleep(30)\n",
    "ib.cancelRealTimeBars(bars)"
   ]
  },
  {
   "cell_type": "markdown",
   "metadata": {},
   "source": [
    "The advantage of reqRealTimeBars is that it behaves more robust when the connection to the IB server farms is interrupted. After the connection is restored, the bars from during the network outage will be backfilled and the live bars will resume.\n",
    "\n",
    "reqHistoricalData + keepUpToDate will, at the moment of writing, leave the whole API inoperable after a network interruption."
   ]
  },
  {
   "cell_type": "code",
   "execution_count": 22,
   "metadata": {},
   "outputs": [],
   "source": [
    "ib.disconnect()"
   ]
  },
  {
   "cell_type": "code",
   "execution_count": null,
   "metadata": {},
   "outputs": [],
   "source": []
  }
 ],
 "metadata": {
  "kernelspec": {
   "display_name": "Python 3",
   "language": "python",
   "name": "python3"
  },
  "language_info": {
   "codemirror_mode": {
    "name": "ipython",
    "version": 3
   },
   "file_extension": ".py",
   "mimetype": "text/x-python",
   "name": "python",
   "nbconvert_exporter": "python",
   "pygments_lexer": "ipython3",
   "version": "3.8.8"
  }
 },
 "nbformat": 4,
 "nbformat_minor": 4
}
