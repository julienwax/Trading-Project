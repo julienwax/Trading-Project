{
 "cells": [
  {
   "cell_type": "markdown",
   "metadata": {},
   "source": [
    "# Scanners"
   ]
  },
  {
   "cell_type": "code",
   "execution_count": 1,
   "metadata": {},
   "outputs": [
    {
     "data": {
      "text/plain": [
       "<IB connected to 127.0.0.1:7497 clientId=17>"
      ]
     },
     "execution_count": 1,
     "metadata": {},
     "output_type": "execute_result"
    }
   ],
   "source": [
    "from ib_insync import *\n",
    "util.startLoop()  \n",
    "\n",
    "ib = IB()\n",
    "ib.connect('127.0.0.1', 7497, clientId=17)"
   ]
  },
  {
   "cell_type": "markdown",
   "metadata": {},
   "source": [
    "## Basic Scanner\n",
    "\n",
    "To create a scanner, create a `ScannerSubscription` to submit to the `reqScannerData` method. For any scanner to work, at least these three fields must be filled: `instrument` (the what), `locationCode` (the where), and `scanCode` (the ranking).\n",
    "\n",
    "For example, to find the top ranked US stock percentage gainers:"
   ]
  },
  {
   "cell_type": "code",
   "execution_count": 2,
   "metadata": {},
   "outputs": [
    {
     "name": "stdout",
     "output_type": "stream",
     "text": [
      "50 results, first one:\n",
      "ScanData(rank=0, contractDetails=ContractDetails(contract=Contract(secType='STK', conId=274859269, symbol='DFEN', exchange='SMART', currency='USD', localSymbol='DFEN', tradingClass='DFEN'), marketName='DFEN', minTick=0.0, orderTypes='', validExchanges='', priceMagnifier=0, underConId=0, longName='', contractMonth='', industry='', category='', subcategory='', timeZoneId='', tradingHours='', liquidHours='', evRule='', evMultiplier=0, mdSizeMultiplier=1, aggGroup=0, underSymbol='', underSecType='', marketRuleIds='', secIdList=[], realExpirationDate='', lastTradeTime='', stockType='', minSize=0.0, sizeIncrement=0.0, suggestedSizeIncrement=0.0, cusip='', ratings='', descAppend='', bondType='', couponType='', callable=False, putable=False, coupon=0, convertible=False, maturity='', issueDate='', nextOptionDate='', nextOptionType='', nextOptionPartial=False, notes=''), distance='', benchmark='', projection='', legsStr='')\n"
     ]
    },
    {
     "name": "stderr",
     "output_type": "stream",
     "text": [
      "Error 162, reqId 3: Historical Market Data Service error message:API scanner subscription cancelled: 3\n"
     ]
    }
   ],
   "source": [
    "sub = ScannerSubscription(\n",
    "    instrument='STK', \n",
    "    locationCode='STK.US.MAJOR', \n",
    "    scanCode='TOP_PERC_GAIN')\n",
    "\n",
    "scanData = ib.reqScannerData(sub)\n",
    "\n",
    "print(f'{len(scanData)} results, first one:')\n",
    "print(scanData[0])"
   ]
  },
  {
   "cell_type": "markdown",
   "metadata": {},
   "source": [
    "*The displayed error 162 can be ignored*\n",
    "\n",
    "The scanner returns a list of contract details, without current market data (this can be obtained via seperate market data requests).\n",
    "\n",
    "## Filtering scanner results, the old way\n",
    "\n",
    "The `ScannerSubscription` object has addional parameters that can be set to filter the results, such as `abovePrice`, `aboveVolume`, `marketCapBelow` or `spRatingAbove`. \n",
    "\n",
    "For example, to reuse the previous `sub` and query only for stocks with a price above 200 dollar:"
   ]
  },
  {
   "cell_type": "code",
   "execution_count": 5,
   "metadata": {},
   "outputs": [
    {
     "name": "stdout",
     "output_type": "stream",
     "text": [
      "['SAIA', 'HUBS', 'ITW', 'SPOT', 'IWY', 'FSLR', 'LLY', 'ETN', 'TT', 'HEI', 'MCD', 'BDX', 'MCK', 'AVGO', 'UNH']\n"
     ]
    },
    {
     "name": "stderr",
     "output_type": "stream",
     "text": [
      "Error 162, reqId 6: Historical Market Data Service error message:API scanner subscription cancelled: 6\n"
     ]
    }
   ],
   "source": [
    "sub.abovePrice = 200\n",
    "scanData = ib.reqScannerData(sub)\n",
    "\n",
    "symbols = [sd.contractDetails.contract.symbol for sd in scanData]\n",
    "print(symbols)"
   ]
  },
  {
   "cell_type": "markdown",
   "metadata": {},
   "source": [
    "## Filtering, the new way\n",
    "\n",
    "In the new way there is a truly vast number of parameters available to use for filtering.\n",
    "These new scanner parameters map directly to the options available through the TWS \"Advanced Market Scanner.\" The parameters\n",
    "are dynamically available from a huge XML document that is returned by ``reqScannerParameters``:"
   ]
  },
  {
   "cell_type": "code",
   "execution_count": 6,
   "metadata": {},
   "outputs": [
    {
     "name": "stdout",
     "output_type": "stream",
     "text": [
      "2055191 bytes\n"
     ]
    }
   ],
   "source": [
    "xml = ib.reqScannerParameters()\n",
    "\n",
    "print(len(xml), 'bytes')"
   ]
  },
  {
   "cell_type": "markdown",
   "metadata": {},
   "source": [
    "To view the XML in a web browser:"
   ]
  },
  {
   "cell_type": "code",
   "execution_count": 7,
   "metadata": {},
   "outputs": [
    {
     "data": {
      "text/plain": [
       "True"
      ]
     },
     "execution_count": 7,
     "metadata": {},
     "output_type": "execute_result"
    }
   ],
   "source": [
    "path = 'scanner_parameters.xml'\n",
    "with open(path, 'w') as f:\n",
    "    f.write(xml)\n",
    "\n",
    "import webbrowser\n",
    "webbrowser.open(path)"
   ]
  },
  {
   "cell_type": "code",
   "execution_count": 8,
   "metadata": {},
   "outputs": [
    {
     "name": "stdout",
     "output_type": "stream",
     "text": [
      "1476 tags:\n",
      "['priceAbove', 'priceBelow', 'usdPriceAbove', 'usdPriceBelow', 'volumeAbove', 'usdVolumeAbove', 'usdVolumeBelow', 'avgVolumeAbove', 'avgVolumeBelow', 'avgUsdVolumeAbove', 'avgUsdVolumeBelow', 'ihNumSharesInsiderAbove', 'ihNumSharesInsiderBelow', 'ihInsiderOfFloatPercAbove', 'ihInsiderOfFloatPercBelow', 'iiNumSharesInstitutionalAbove', 'iiNumSharesInstitutionalBelow', 'iiInstitutionalOfFloatPercAbove', 'iiInstitutionalOfFloatPercBelow', 'marketCapAbove1e6', 'marketCapBelow1e6', 'moodyRatingAbove', 'moodyRatingBelow', 'spRatingAbove', 'spRatingBelow', 'ratingsRelation', 'bondCreditRating', 'maturityDateAbove', 'maturityDateBelow', 'currencyLike', 'excludeConvertible', 'couponRateAbove', 'couponRateBelow', 'optVolumeAbove', 'optVolumeBelow', 'avgOptVolumeAbove', 'optVolumePCRatioAbove', 'optVolumePCRatioBelow', 'impVolatAbove', 'impVolatBelow', 'impVolatOverHistAbove', 'impVolatOverHistBelow', 'imbalanceAbove', 'imbalanceBelow', 'displayImbalanceAdvRatioAbove', 'displayImbalanceAdvRatioBelow', 'regulatoryImbalanceAbove', 'regulatoryImbalanceBelow', 'displayRegulatoryImbAdvRatioAbove', 'displayRegulatoryImbAdvRatioBelow', 'avgRatingAbove', 'avgRatingBelow', 'numRatingsAbove', 'numRatingsBelow', 'avgPriceTargetAbove', 'avgPriceTargetBelow', 'numPriceTargetsAbove', 'numPriceTargetsBelow', 'avgAnalystTarget2PriceRatioAbove', 'avgAnalystTarget2PriceRatioBelow', 'stkTypes', 'hasOptionsIs', 'peaEligibleStkIs', 'leadFutOnly', 'dividendFrdAbove', 'dividendFrdBelow', 'dividendYieldFrdAbove', 'dividendYieldFrdBelow', 'dividendNextDateAbove', 'dividendNextDateBelow', 'dividendNextAmountAbove', 'dividendNextAmountBelow', 'histDividendFrdAbove', 'histDividendFrdBelow', 'histDividendFrdYieldAbove', 'histDividendFrdYieldBelow', 'minGrowthRate', 'maxGrowthRate', 'minPeRatio', 'maxPeRatio', 'minQuickRatio', 'maxQuickRatio', 'minRetnOnEq', 'maxRetnOnEq', 'minPrice2Bk', 'maxPrice2Bk', 'minPrice2TanBk', 'maxPrice2TanBk', 'firstTradeDateAbove', 'firstTradeDateBelow', 'changePercAbove', 'changePercBelow', 'afterHoursChangeAbove', 'afterHoursChangeBelow', 'afterHoursChangePercAbove', 'afterHoursChangePercBelow', 'changeOpenPercAbove', 'changeOpenPercBelow', 'openGapPercAbove', 'openGapPercBelow', 'priceRangeAbove', 'priceRangeBelow', 'tradeCountAbove', 'tradeCountBelow', 'tradeRateAbove', 'tradeRateBelow', 'volumeRateAbove', 'volumeRateBelow', 'stVolume3minAbove', 'stVolume3minBelow', 'stVolume5minAbove', 'stVolume5minBelow', 'stVolume10minAbove', 'stVolume10minBelow', 'prodCatIs', 'bondUSStateLike', 'issuerCountryIs', 'bondStkSymbolIs', 'bondIssuerLike', 'bondCallableIs', 'unshortableIs', 'haltedIs', 'shortSaleRestrictionIs', 'sharesAvailableManyAbove', 'sharesAvailableManyBelow', 'feeRateAbove', 'feeRateBelow', 'utilizationAbove', 'utilizationBelow', 'bondDefaultedIs', 'bondTradingFlatIs', 'bondExchListedIs', 'bondFdicInsIs', 'bondVarCouponRateIs', 'bondInsuredIs', 'bondGeneralObligationIs', 'bondRevenueIs', 'bondSubjectToAmtIs', 'bondRefundedIs', 'bondNoFederalTaxIs', 'bondBankQualifiedIs', 'bondBuildAmericaIs', 'bondValidBidOrAskOnly', 'bondBidAbove', 'bondBidBelow', 'bondAskAbove', 'bondAskBelow', 'bondBidOrAskAbove', 'bondBidOrAskBelow', 'bondBidSizeValueAbove', 'bondBidSizeValueBelow', 'bondAskSizeValueAbove', 'bondAskSizeValueBelow', 'bondBidOrAskSizeValueAbove', 'bondBidOrAskSizeValueBelow', 'bondBidYieldAbove', 'bondBidYieldBelow', 'bondAskYieldAbove', 'bondAskYieldBelow', 'bondBidOrAskYieldAbove', 'bondBidOrAskYieldBelow', 'bondSpreadAbove', 'bondSpreadBelow', 'bondPaymentFreqIs', 'bondAmtOutstandingAbove', 'bondAmtOutstandingBelow', 'bondNextCallDateAbove', 'bondNextCallDateBelow', 'bondDurationAbove', 'bondDurationBelow', 'bondConvexityAbove', 'bondConvexityBelow', 'bondStkMarketCapAbove', 'bondStkMarketCapBelow', 'bondDebtOutstandingAbove', 'bondDebtOutstandingBelow', 'bondDebtOutstandingMuniAbove', 'bondDebtOutstandingMuniBelow', 'bondDebt2EquityRatioAbove', 'bondDebt2EquityRatioBelow', 'bondDebt2BookRatioAbove', 'bondDebt2BookRatioBelow', 'bondDebt2TanBookRatioAbove', 'bondDebt2TanBookRatioBelow', 'bondEquity2BookRatioAbove', 'bondEquity2BookRatioBelow', 'bondEquity2TanBookRatioAbove', 'bondEquity2TanBookRatioBelow', 'bondInitialSizeAbove', 'bondInitialSizeBelow', 'bondIncrementSizeAbove', 'bondIncrementSizeBelow', 'bondStructRelated', 'bondAssetSubTypeStrBeginsWithOneOf', 'underConID', 'etfDistribFreqIs', 'etfAssetsAbove', 'etfAssetsBelow', 'etfExpenseAbove', 'etfExpenseBelow', 'etfALTARAbove', 'etfALTARBelow', 'etfAvgALTARAbove', 'etfAvgALTARBelow', 'etfTRytdAbove', 'etfTRytdBelow', 'etfTR1yrAbove', 'etfTR1yrBelow', 'etfTR5yrAbove', 'etfTR5yrBelow', 'etfTR10yrAbove', 'etfTR10yrBelow', 'etfTRIncepAbove', 'etfTRIncepBelow', 'etfTrackingDiffPctAbove', 'etfTrackingDiffPctBelow', 'etfBidAskPctAbove', 'etfBidAskPctBelow', 'etfEmgAbove', 'etfEmgBelow', 'etfDevAbove', 'etfDevBelow', 'etf5yrEPSAbove', 'etf5yrEPSBelow', 'etfLeverageAbove', 'etfLeverageBelow', 'etfAssetTurnsAbove', 'etfAssetTurnsBelow', 'etf1moChngAbove', 'etf1moChngBelow', 'etf3moChngAbove', 'etf3moChngBelow', 'etfPayoutAbove', 'etfPayoutBelow', 'etfFwd_PEAbove', 'etfFwd_PEBelow', 'etfFwd_PCFAbove', 'etfFwd_PCFBelow', 'etfFwd_YldAbove', 'etfFwd_YldBelow', 'etfBetaSPXAbove', 'etfBetaSPXBelow', 'etfLTGAbove', 'etfLTGBelow', 'etfSht_IntAbove', 'etfSht_IntBelow', 'etfRSIAbove', 'etfRSIBelow', 'etfYTM_WgtAvgAbove', 'etfYTM_WgtAvgBelow', 'etfCPN_WgtAvgAbove', 'etfCPN_WgtAvgBelow', 'etfCurYld_WgtAvgAbove', 'etfCurYld_WgtAvgBelow', 'etfMaturity_WgtAvgAbove', 'etfMaturity_WgtAvgBelow', 'etfDUR_WgtAvgAbove', 'etfDUR_WgtAvgBelow', 'etfMOD_DUR_WgtAvgAbove', 'etfMOD_DUR_WgtAvgBelow', 'etfCONVEX_WgtAvgAbove', 'etfCONVEX_WgtAvgBelow', 'etfNum_DistinctAbove', 'etfNum_DistinctBelow', 'etfComponent_CountAbove', 'etfComponent_CountBelow', 'etfPct_FixedAbove', 'etfPct_FixedBelow', 'etfPct_at_MtyAbove', 'etfPct_at_MtyBelow', 'etfMoodyRatingAbove', 'etfMoodyRatingBelow', 'etfSPRatingAbove', 'etfSPRatingBelow', 'prevYrETFFYBVPerShareAbove', 'prevYrETFFYBVPerShareBelow', 'prevYrETFFYDividendYieldAbove', 'prevYrETFFYDividendYieldBelow', 'prevYrETFFYDPSAbove', 'prevYrETFFYDPSBelow', 'prevYrETFFYEPSAbove', 'prevYrETFFYEPSBelow', 'prevYrETFFYEPSGrowthAbove', 'prevYrETFFYEPSGrowthBelow', 'prevYrETFFYNetMarginAbove', 'prevYrETFFYNetMarginBelow', 'prevYrETFFYPriceToBookValueAbove', 'prevYrETFFYPriceToBookValueBelow', 'prevYrETFFYPriceToCashFlowAbove', 'prevYrETFFYPriceToCashFlowBelow', 'prevYrETFFYPriceToEarningsAbove', 'prevYrETFFYPriceToEarningsBelow', 'prevYrETFFYPriceToGrowthAbove', 'prevYrETFFYPriceToGrowthBelow', 'prevYrETFFYPriceToSalesAbove', 'prevYrETFFYPriceToSalesBelow', 'prevYrETFFYRoEAbove', 'prevYrETFFYRoEBelow', 'prevYrETFFYSPSAbove', 'prevYrETFFYSPSBelow', 'prevYrETFFYSPSGrowthAbove', 'prevYrETFFYSPSGrowthBelow', 'currYrETFFYBVPerShareAbove', 'currYrETFFYBVPerShareBelow', 'currYrETFFYDividendYieldAbove', 'currYrETFFYDividendYieldBelow', 'currYrETFFYDPSAbove', 'currYrETFFYDPSBelow', 'currYrETFFYEPSAbove', 'currYrETFFYEPSBelow', 'currYrETFFYEPSGrowthAbove', 'currYrETFFYEPSGrowthBelow', 'currYrETFFYNetMarginAbove', 'currYrETFFYNetMarginBelow', 'currYrETFFYPriceToBookValueAbove', 'currYrETFFYPriceToBookValueBelow', 'currYrETFFYPriceToCashFlowAbove', 'currYrETFFYPriceToCashFlowBelow', 'currYrETFFYPriceToEarningsAbove', 'currYrETFFYPriceToEarningsBelow', 'currYrETFFYPriceToGrowthAbove', 'currYrETFFYPriceToGrowthBelow', 'currYrETFFYPriceToSalesAbove', 'currYrETFFYPriceToSalesBelow', 'currYrETFFYRoEAbove', 'currYrETFFYRoEBelow', 'currYrETFFYSPSAbove', 'currYrETFFYSPSBelow', 'currYrETFFYSPSGrowthAbove', 'currYrETFFYSPSGrowthBelow', 'nextYrETFFYBVPerShareAbove', 'nextYrETFFYBVPerShareBelow', 'nextYrETFFYDividendYieldAbove', 'nextYrETFFYDividendYieldBelow', 'nextYrETFFYDPSAbove', 'nextYrETFFYDPSBelow', 'nextYrETFFYEPSAbove', 'nextYrETFFYEPSBelow', 'nextYrETFFYEPSGrowthAbove', 'nextYrETFFYEPSGrowthBelow', 'nextYrETFFYNetMarginAbove', 'nextYrETFFYNetMarginBelow', 'nextYrETFFYPriceToBookValueAbove', 'nextYrETFFYPriceToBookValueBelow', 'nextYrETFFYPriceToCashFlowAbove', 'nextYrETFFYPriceToCashFlowBelow', 'nextYrETFFYPriceToEarningsAbove', 'nextYrETFFYPriceToEarningsBelow', 'nextYrETFFYPriceToGrowthAbove', 'nextYrETFFYPriceToGrowthBelow', 'nextYrETFFYPriceToSalesAbove', 'nextYrETFFYPriceToSalesBelow', 'nextYrETFFYRoEAbove', 'nextYrETFFYRoEBelow', 'nextYrETFFYSPSAbove', 'nextYrETFFYSPSBelow', 'nextYrETFFYSPSGrowthAbove', 'nextYrETFFYSPSGrowthBelow', 'rcgLongTermClassIs', 'rcgLongTermTechnicalDateAbove', 'rcgLongTermTechnicalDateBelow', 'rcgLongTermEventScoreAbove', 'rcgLongTermEventScoreBelow', 'rcgLongTermTradeIs', 'rcgIntermediateTermClassIs', 'rcgIntermediateTermTechnicalDateAbove', 'rcgIntermediateTermTechnicalDateBelow', 'rcgIntermediateTermEventScoreAbove', 'rcgIntermediateTermEventScoreBelow', 'rcgIntermediateTermTradeIs', 'rcgShortTermClassIs', 'rcgShortTermTechnicalDateAbove', 'rcgShortTermTechnicalDateBelow', 'rcgShortTermEventScoreAbove', 'rcgShortTermEventScoreBelow', 'rcgShortTermTradeIs', 'curEMA20Above', 'curEMA20Below', 'curEMA50Above', 'curEMA50Below', 'curEMA100Above', 'curEMA100Below', 'curEMA200Above', 'curEMA200Below', 'lastVsEMAChangeRatio20Above', 'lastVsEMAChangeRatio20Below', 'lastVsEMAChangeRatio50Above', 'lastVsEMAChangeRatio50Below', 'lastVsEMAChangeRatio100Above', 'lastVsEMAChangeRatio100Below', 'lastVsEMAChangeRatio200Above', 'lastVsEMAChangeRatio200Below', 'curMACDAbove', 'curMACDBelow', 'curMACDSignalAbove', 'curMACDSignalBelow', 'curMACDDistAbove', 'curMACDDistBelow', 'curPPOAbove', 'curPPOBelow', 'curPPOSignalAbove', 'curPPOSignalBelow', 'curPPODistAbove', 'curPPODistBelow', 'epsChangeTTMAbove', 'epsChangeTTMBelow', 'revChangeAbove', 'revChangeBelow', 'revGrowthRate5YAbove', 'revGrowthRate5YBelow', 'payoutRatioTTMAbove', 'payoutRatioTTMBelow', 'price2CashTTMAbove', 'price2CashTTMBelow', 'operatingMarginTTMAbove', 'operatingMarginTTMBelow', 'netProfitMarginTTMAbove', 'netProfitMarginTTMBelow', 'returnOnInvestmentTTMAbove', 'returnOnInvestmentTTMBelow', 'esgScoreAbove', 'esgScoreBelow', 'esgCombinedScoreAbove', 'esgCombinedScoreBelow', 'esgControversiesScoreAbove', 'esgControversiesScoreBelow', 'esgResourceUseScoreAbove', 'esgResourceUseScoreBelow', 'esgEmissionsScoreAbove', 'esgEmissionsScoreBelow', 'esgEnvInvScoreAbove', 'esgEnvInvScoreBelow', 'esgWorkforceScoreAbove', 'esgWorkforceScoreBelow', 'esgHrScoreAbove', 'esgHrScoreBelow', 'esgCommunityScoreAbove', 'esgCommunityScoreBelow', 'esgProdRespScoreAbove', 'esgProdRespScoreBelow', 'esgManagementScoreAbove', 'esgManagementScoreBelow', 'esgShareholdersScoreAbove', 'esgShareholdersScoreBelow', 'esgStrategyScoreAbove', 'esgStrategyScoreBelow', 'esgEnvPillarScoreAbove', 'esgEnvPillarScoreBelow', 'esgSocialPillarScoreAbove', 'esgSocialPillarScoreBelow', 'esgCorpGovPillarScoreAbove', 'esgCorpGovPillarScoreBelow', 'ivRank13wAbove', 'ivRank13wBelow', 'ivRank26wAbove', 'ivRank26wBelow', 'ivRank52wAbove', 'ivRank52wBelow', 'ivPercntl13wAbove', 'ivPercntl13wBelow', 'ivPercntl26wAbove', 'ivPercntl26wBelow', 'ivPercntl52wAbove', 'ivPercntl52wBelow', 'hvRank13wAbove', 'hvRank13wBelow', 'HVRank26wAbove', 'HVRank26wBelow', 'HVRank52wAbove', 'HVRank52wBelow', 'HVPercntl13wAbove', 'HVPercntl13wBelow', 'HVPercntl26wAbove', 'HVPercntl26wBelow', 'HVPercntl52wAbove', 'HVPercntl52wBelow', 'mfTotalReturnScoreOverallAbove', 'mfTotalReturnScoreOverallBelow', 'mfConsistentReturnScoreOverallAbove', 'mfConsistentReturnScoreOverallBelow', 'mfPreservationScoreOverallAbove', 'mfPreservationScoreOverallBelow', 'mfTaxEfficiencyScoreOverallAbove', 'mfTaxEfficiencyScoreOverallBelow', 'mfExpenseScoreOverallAbove', 'mfExpenseScoreOverallBelow', 'mfTotalReturnScore3yrAbove', 'mfTotalReturnScore3yrBelow', 'mfConsistentReturnScore3yrAbove', 'mfConsistentReturnScore3yrBelow', 'mfPreservationScore3yrAbove', 'mfPreservationScore3yrBelow', 'mfTaxEfficiencyScore3yrAbove', 'mfTaxEfficiencyScore3yrBelow', 'mfExpenseScore3yrAbove', 'mfExpenseScore3yrBelow', 'mfTotalReturnScore5yrAbove', 'mfTotalReturnScore5yrBelow', 'mfConsistentReturnScore5yrAbove', 'mfConsistentReturnScore5yrBelow', 'mfPreservationScore5yrAbove', 'mfPreservationScore5yrBelow', 'mfTaxEfficiencyScore5yrAbove', 'mfTaxEfficiencyScore5yrBelow', 'mfExpenseScore5yrAbove', 'mfExpenseScore5yrBelow', 'mfTotalReturnScore10yrAbove', 'mfTotalReturnScore10yrBelow', 'mfConsistentReturnScore10yrAbove', 'mfConsistentReturnScore10yrBelow', 'mfPreservationScore10yrAbove', 'mfPreservationScore10yrBelow', 'mfTaxEfficiencyScore10yrAbove', 'mfTaxEfficiencyScore10yrBelow', 'mfExpenseScore10yrAbove', 'mfExpenseScore10yrBelow', 'mfPriceChangeValueAbove', 'mfPriceChangeValueBelow', 'lipperTotalNetAssetsAbove', 'lipperTotalNetAssetsBelow', 'lipperTotalExpenseRatioAbove', 'lipperTotalExpenseRatioBelow', 'lipperDistributionYield1yrValueAbove', 'lipperDistributionYield1yrValueBelow', 'lipperPercentageGrowthCumulativeValueAbove', 'lipperPercentageGrowthCumulativeValueBelow', 'lipperAnnualizedPerformance3yrValueAbove', 'lipperAnnualizedPerformance3yrValueBelow', 'lipperAnnualizedPerformance5yrValueAbove', 'lipperAnnualizedPerformance5yrValueBelow', 'lipperAnnualizedPerformance10yrValueAbove', 'lipperAnnualizedPerformance10yrValueBelow', 'lipperYieldValueAbove', 'lipperYieldValueBelow', 'lipperProjectedYieldValueAbove', 'lipperProjectedYieldValueBelow', 'lipperPctChangeAbove', 'lipperPctChangeBelow', 'lipperAdjustedRSquared1yrAbove', 'lipperAdjustedRSquared1yrBelow', 'lipperAlpha1yrAbove', 'lipperAlpha1yrBelow', 'lipperAverageLoss1yrAbove', 'lipperAverageLoss1yrBelow', 'lipperAverageReturn1yrAbove', 'lipperAverageReturn1yrBelow', 'lipperBearBeta1yrAbove', 'lipperBearBeta1yrBelow', 'lipperBeta1yrAbove', 'lipperBeta1yrBelow', 'lipperBullBeta1yrAbove', 'lipperBullBeta1yrBelow', 'lipperCovariance1yrAbove', 'lipperCovariance1yrBelow', 'lipperCorrelation1yrAbove', 'lipperCorrelation1yrBelow', 'lipperDownsideDeviationPopulation1yrAbove', 'lipperDownsideDeviationPopulation1yrBelow', 'lipperInformationRatio1yrAbove', 'lipperInformationRatio1yrBelow', 'lipperMaxGain1yrAbove', 'lipperMaxGain1yrBelow', 'lipperMaxLoss1yrAbove', 'lipperMaxLoss1yrBelow', 'lipperMaximumDrawdown1yrAbove', 'lipperMaximumDrawdown1yrBelow', 'lipperPositivePeriods1yrAbove', 'lipperPositivePeriods1yrBelow', 'lipperRSquared1yrAbove', 'lipperRSquared1yrBelow', 'lipperReturnRiskRatio1yrAbove', 'lipperReturnRiskRatio1yrBelow', 'lipperSRRI1yrAbove', 'lipperSRRI1yrBelow', 'lipperSemiDeviation1yrAbove', 'lipperSemiDeviation1yrBelow', 'lipperSemiVariance1yrAbove', 'lipperSemiVariance1yrBelow', 'lipperSharpeRatio1yrAbove', 'lipperSharpeRatio1yrBelow', 'lipperSortino1yrAbove', 'lipperSortino1yrBelow', 'lipperStandardDeviation1yrAbove', 'lipperStandardDeviation1yrBelow', 'lipperTrackingError1yrAbove', 'lipperTrackingError1yrBelow', 'lipperTreynorRatio1yrAbove', 'lipperTreynorRatio1yrBelow', 'lipperValueAtRiskNormal1yrAbove', 'lipperValueAtRiskNormal1yrBelow', 'lipperValueAtRiskNormalETL1yrAbove', 'lipperValueAtRiskNormalETL1yrBelow', 'lipperValueAtRiskQuantile1yrAbove', 'lipperValueAtRiskQuantile1yrBelow', 'lipperValueAtRiskQuantileETL1yrAbove', 'lipperValueAtRiskQuantileETL1yrBelow', 'lipperVariance1yrAbove', 'lipperVariance1yrBelow', 'lipperNumberOfSecuritiesAbove', 'lipperNumberOfSecuritiesBelow', 'lipperDividendPayoutRatioAbove', 'lipperDividendPayoutRatioBelow', 'lipperDividendPayoutRatio5yrAbove', 'lipperDividendPayoutRatio5yrBelow', 'lipperDividendPerShare1yrAbove', 'lipperDividendPerShare1yrBelow', 'lipperDividendPerShare3yrAbove', 'lipperDividendPerShare3yrBelow', 'lipperPrice2DividendAbove', 'lipperPrice2DividendBelow', 'lipperDividendYieldWAvgAbove', 'lipperDividendYieldWAvgBelow', 'lipperEBIT2InterestAbove', 'lipperEBIT2InterestBelow', 'lipperMktCapAvgLatestAbove', 'lipperMktCapAvgLatestBelow', 'lipperOperCashFlowGrowthRate3yrAbove', 'lipperOperCashFlowGrowthRate3yrBelow', 'lipperSalesGrowth1yrAbove', 'lipperSalesGrowth1yrBelow', 'lipperSalesGrowth3yrAbove', 'lipperSalesGrowth3yrBelow', 'lipperSalesGrowth5yrAbove', 'lipperSalesGrowth5yrBelow', 'lipperLatestPrice2EarningsRatioAbove', 'lipperLatestPrice2EarningsRatioBelow', 'lipperLatestPrice2BookRatioAbove', 'lipperLatestPrice2BookRatioBelow', 'lipperLatestPrice2SalesRatioAbove', 'lipperLatestPrice2SalesRatioBelow', 'lipperLatestReturnOnEquityWAvgAbove', 'lipperLatestReturnOnEquityWAvgBelow', 'lipperLatestSalesPerShareGrowth3yrAbove', 'lipperLatestSalesPerShareGrowth3yrBelow', 'lipperLTDebt2ShareholdersEquityAbove', 'lipperLTDebt2ShareholdersEquityBelow', 'lipperEPSGrowth1yrAbove', 'lipperEPSGrowth1yrBelow', 'lipperEPSGrowth3yrAbove', 'lipperEPSGrowth3yrBelow', 'lipperEPSGrowth5yrAbove', 'lipperEPSGrowth5yrBelow', 'lipperPrice2EarningsRatioAbove', 'lipperPrice2EarningsRatioBelow', 'lipperPrice2BookRatioAbove', 'lipperPrice2BookRatioBelow', 'lipperPrice2SalesRatioAbove', 'lipperPrice2SalesRatioBelow', 'lipperReturnOnAssets1yrAbove', 'lipperReturnOnAssets1yrBelow', 'lipperReturnOnAssets3yrAbove', 'lipperReturnOnAssets3yrBelow', 'lipperReturnOnEquity1yrAbove', 'lipperReturnOnEquity1yrBelow', 'lipperReturnOnEquity3yrAbove', 'lipperReturnOnEquity3yrBelow', 'lipperReturnOnInvestment1yrAbove', 'lipperReturnOnInvestment1yrBelow', 'lipperReturnOnInvestment3yrAbove', 'lipperReturnOnInvestment3yrBelow', 'lipperSales2TotalAssetsAbove', 'lipperSales2TotalAssetsBelow', 'lipperSalesPerShareGrowth1yrAbove', 'lipperSalesPerShareGrowth1yrBelow', 'lipperSalesPerShareGrowth3yrAbove', 'lipperSalesPerShareGrowth3yrBelow', 'lipperTotalAssets2TotalEquityAbove', 'lipperTotalAssets2TotalEquityBelow', 'lipperTotalDebt2TotalCapitalAbove', 'lipperTotalDebt2TotalCapitalBelow', 'lipperTotalDebt2TotalEquityAbove', 'lipperTotalDebt2TotalEquityBelow', 'lipperPrice2CashAbove', 'lipperPrice2CashBelow', 'lipperRelativeStrengthAbove', 'lipperRelativeStrengthBelow', 'lipperReturnOnCapitalAbove', 'lipperReturnOnCapitalBelow', 'lipperReturnOnCapital3yrAbove', 'lipperReturnOnCapital3yrBelow', 'lipperLatestCompositeZScoreAbove', 'lipperLatestCompositeZScoreBelow', 'lipperLatestPrice2EarningsZScoreAbove', 'lipperLatestPrice2EarningsZScoreBelow', 'lipperLatestPrice2BookZScoreAbove', 'lipperLatestPrice2BookZScoreBelow', 'lipperLatestPrice2SalesZScoreAbove', 'lipperLatestPrice2SalesZScoreBelow', 'lipperLatestSPSGrowthZScoreAbove', 'lipperLatestSPSGrowthZScoreBelow', 'lipperAverageFinalCompositeZScoreAbove', 'lipperAverageFinalCompositeZScoreBelow', 'lipperWeightedFinalCompositeZScoreAbove', 'lipperWeightedFinalCompositeZScoreBelow', 'lipperDividendYieldZScoreAbove', 'lipperDividendYieldZScoreBelow', 'lipperReturnOnEquityZScoreAbove', 'lipperReturnOnEquityZScoreBelow', 'lipperYieldToMaturityAbove', 'lipperYieldToMaturityBelow', 'lipperNominalMaturityAbove', 'lipperNominalMaturityBelow', 'lipperEffectiveMaturityAbove', 'lipperEffectiveMaturityBelow', 'lipperAverageCouponAbove', 'lipperAverageCouponBelow', 'lipperCalculatedAverageQualityAbove', 'lipperCalculatedAverageQualityBelow', 'lipperFundLeverageRatioAbove', 'lipperFundLeverageRatioBelow', 'socialSentimentScoreAbove', 'socialSentimentScoreBelow', 'socialSentimentScoreChangeAbove', 'socialSentimentScoreChangeBelow', 'tweetVolumeScoreAbove', 'tweetVolumeScoreBelow', 'tweetVolumeScoreChangeAbove', 'tweetVolumeScoreChangeBelow', 'bidAskPriceType', 'seperatorType', 'seperatorTypeSym', 'seperatorTypeESG', 'bidAskPriceType', 'seperatorType', 'seperatorTypeSym', 'bidAskPriceType', 'seperatorType', 'seperatorTypeSym', 'bidAskPriceType', 'seperatorType', 'seperatorTypeSym', 'bidAskPriceType', 'seperatorType', 'seperatorTypeSym', 'bidAskPriceType', 'seperatorType', 'seperatorTypeSym', 'priceAbove', 'priceBelow', 'usdPriceAbove', 'usdPriceBelow', 'volumeAbove', 'usdVolumeAbove', 'usdVolumeBelow', 'avgVolumeAbove', 'avgVolumeBelow', 'avgUsdVolumeAbove', 'avgUsdVolumeBelow', 'ihNumSharesInsiderAbove', 'ihNumSharesInsiderBelow', 'ihInsiderOfFloatPercAbove', 'ihInsiderOfFloatPercBelow', 'iiNumSharesInstitutionalAbove', 'iiNumSharesInstitutionalBelow', 'iiInstitutionalOfFloatPercAbove', 'iiInstitutionalOfFloatPercBelow', 'marketCapAbove1e6', 'marketCapBelow1e6', 'moodyRatingAbove', 'moodyRatingBelow', 'spRatingAbove', 'spRatingBelow', 'ratingsRelation', 'bondCreditRating', 'maturityDateAbove', 'maturityDateBelow', 'currencyLike', 'excludeConvertible', 'couponRateAbove', 'couponRateBelow', 'optVolumeAbove', 'optVolumeBelow', 'avgOptVolumeAbove', 'optVolumePCRatioAbove', 'optVolumePCRatioBelow', 'impVolatAbove', 'impVolatBelow', 'impVolatOverHistAbove', 'impVolatOverHistBelow', 'imbalanceAbove', 'imbalanceBelow', 'displayImbalanceAdvRatioAbove', 'displayImbalanceAdvRatioBelow', 'regulatoryImbalanceAbove', 'regulatoryImbalanceBelow', 'displayRegulatoryImbAdvRatioAbove', 'displayRegulatoryImbAdvRatioBelow', 'avgRatingAbove', 'avgRatingBelow', 'numRatingsAbove', 'numRatingsBelow', 'avgPriceTargetAbove', 'avgPriceTargetBelow', 'numPriceTargetsAbove', 'numPriceTargetsBelow', 'avgAnalystTarget2PriceRatioAbove', 'avgAnalystTarget2PriceRatioBelow', 'stkTypes', 'hasOptionsIs', 'peaEligibleStkIs', 'leadFutOnly', 'dividendFrdAbove', 'dividendFrdBelow', 'dividendYieldFrdAbove', 'dividendYieldFrdBelow', 'dividendNextDateAbove', 'dividendNextDateBelow', 'dividendNextAmountAbove', 'dividendNextAmountBelow', 'histDividendFrdAbove', 'histDividendFrdBelow', 'histDividendFrdYieldAbove', 'histDividendFrdYieldBelow', 'minGrowthRate', 'maxGrowthRate', 'minPeRatio', 'maxPeRatio', 'minQuickRatio', 'maxQuickRatio', 'minRetnOnEq', 'maxRetnOnEq', 'minPrice2Bk', 'maxPrice2Bk', 'minPrice2TanBk', 'maxPrice2TanBk', 'firstTradeDateAbove', 'firstTradeDateBelow', 'changePercAbove', 'changePercBelow', 'afterHoursChangeAbove', 'afterHoursChangeBelow', 'afterHoursChangePercAbove', 'afterHoursChangePercBelow', 'changeOpenPercAbove', 'changeOpenPercBelow', 'openGapPercAbove', 'openGapPercBelow', 'priceRangeAbove', 'priceRangeBelow', 'tradeCountAbove', 'tradeCountBelow', 'tradeRateAbove', 'tradeRateBelow', 'volumeRateAbove', 'volumeRateBelow', 'stVolume3minAbove', 'stVolume3minBelow', 'stVolume5minAbove', 'stVolume5minBelow', 'stVolume10minAbove', 'stVolume10minBelow', 'prodCatIs', 'bondUSStateLike', 'issuerCountryIs', 'bondStkSymbolIs', 'bondIssuerLike', 'bondCallableIs', 'unshortableIs', 'haltedIs', 'shortSaleRestrictionIs', 'sharesAvailableManyAbove', 'sharesAvailableManyBelow', 'feeRateAbove', 'feeRateBelow', 'utilizationAbove', 'utilizationBelow', 'bondDefaultedIs', 'bondTradingFlatIs', 'bondExchListedIs', 'bondFdicInsIs', 'bondVarCouponRateIs', 'bondInsuredIs', 'bondGeneralObligationIs', 'bondRevenueIs', 'bondSubjectToAmtIs', 'bondRefundedIs', 'bondNoFederalTaxIs', 'bondBankQualifiedIs', 'bondBuildAmericaIs', 'bondValidBidOrAskOnly', 'bondBidAbove', 'bondBidBelow', 'bondAskAbove', 'bondAskBelow', 'bondBidOrAskAbove', 'bondBidOrAskBelow', 'bondBidSizeValueAbove', 'bondBidSizeValueBelow', 'bondAskSizeValueAbove', 'bondAskSizeValueBelow', 'bondBidOrAskSizeValueAbove', 'bondBidOrAskSizeValueBelow', 'bondBidYieldAbove', 'bondBidYieldBelow', 'bondAskYieldAbove', 'bondAskYieldBelow', 'bondBidOrAskYieldAbove', 'bondBidOrAskYieldBelow', 'bondSpreadAbove', 'bondSpreadBelow', 'bondValidNetBidOrAskOnly', 'bondNetBidAbove', 'bondNetBidBelow', 'bondNetAskAbove', 'bondNetAskBelow', 'bondNetBidOrAskAbove', 'bondNetBidOrAskBelow', 'bondNetBidSizeValueAbove', 'bondNetBidSizeValueBelow', 'bondNetAskSizeValueAbove', 'bondNetAskSizeValueBelow', 'bondNetBidOrAskSizeValueAbove', 'bondNetBidOrAskSizeValueBelow', 'bondNetBidYieldAbove', 'bondNetBidYieldBelow', 'bondNetAskYieldAbove', 'bondNetAskYieldBelow', 'bondNetBidOrAskYieldAbove', 'bondNetBidOrAskYieldBelow', 'bondNetSpreadAbove', 'bondNetSpreadBelow', 'bondPaymentFreqIs', 'bondAmtOutstandingAbove', 'bondAmtOutstandingBelow', 'bondNextCallDateAbove', 'bondNextCallDateBelow', 'bondDurationAbove', 'bondDurationBelow', 'bondConvexityAbove', 'bondConvexityBelow', 'bondStkMarketCapAbove', 'bondStkMarketCapBelow', 'bondDebtOutstandingAbove', 'bondDebtOutstandingBelow', 'bondDebtOutstandingMuniAbove', 'bondDebtOutstandingMuniBelow', 'bondDebt2EquityRatioAbove', 'bondDebt2EquityRatioBelow', 'bondDebt2BookRatioAbove', 'bondDebt2BookRatioBelow', 'bondDebt2TanBookRatioAbove', 'bondDebt2TanBookRatioBelow', 'bondEquity2BookRatioAbove', 'bondEquity2BookRatioBelow', 'bondEquity2TanBookRatioAbove', 'bondEquity2TanBookRatioBelow', 'bondInitialSizeAbove', 'bondInitialSizeBelow', 'bondIncrementSizeAbove', 'bondIncrementSizeBelow', 'bondStructRelated', 'bondAssetSubTypeStrBeginsWithOneOf', 'underConID', 'etfDistribFreqIs', 'etfAssetsAbove', 'etfAssetsBelow', 'etfExpenseAbove', 'etfExpenseBelow', 'etfALTARAbove', 'etfALTARBelow', 'etfAvgALTARAbove', 'etfAvgALTARBelow', 'etfTRytdAbove', 'etfTRytdBelow', 'etfTR1yrAbove', 'etfTR1yrBelow', 'etfTR5yrAbove', 'etfTR5yrBelow', 'etfTR10yrAbove', 'etfTR10yrBelow', 'etfTRIncepAbove', 'etfTRIncepBelow', 'etfTrackingDiffPctAbove', 'etfTrackingDiffPctBelow', 'etfBidAskPctAbove', 'etfBidAskPctBelow', 'etfEmgAbove', 'etfEmgBelow', 'etfDevAbove', 'etfDevBelow', 'etf5yrEPSAbove', 'etf5yrEPSBelow', 'etfLeverageAbove', 'etfLeverageBelow', 'etfAssetTurnsAbove', 'etfAssetTurnsBelow', 'etf1moChngAbove', 'etf1moChngBelow', 'etf3moChngAbove', 'etf3moChngBelow', 'etfPayoutAbove', 'etfPayoutBelow', 'etfFwd_PEAbove', 'etfFwd_PEBelow', 'etfFwd_PCFAbove', 'etfFwd_PCFBelow', 'etfFwd_YldAbove', 'etfFwd_YldBelow', 'etfBetaSPXAbove', 'etfBetaSPXBelow', 'etfLTGAbove', 'etfLTGBelow', 'etfSht_IntAbove', 'etfSht_IntBelow', 'etfRSIAbove', 'etfRSIBelow', 'etfYTM_WgtAvgAbove', 'etfYTM_WgtAvgBelow', 'etfCPN_WgtAvgAbove', 'etfCPN_WgtAvgBelow', 'etfCurYld_WgtAvgAbove', 'etfCurYld_WgtAvgBelow', 'etfMaturity_WgtAvgAbove', 'etfMaturity_WgtAvgBelow', 'etfDUR_WgtAvgAbove', 'etfDUR_WgtAvgBelow', 'etfMOD_DUR_WgtAvgAbove', 'etfMOD_DUR_WgtAvgBelow', 'etfCONVEX_WgtAvgAbove', 'etfCONVEX_WgtAvgBelow', 'etfNum_DistinctAbove', 'etfNum_DistinctBelow', 'etfComponent_CountAbove', 'etfComponent_CountBelow', 'etfPct_FixedAbove', 'etfPct_FixedBelow', 'etfPct_at_MtyAbove', 'etfPct_at_MtyBelow', 'etfMoodyRatingAbove', 'etfMoodyRatingBelow', 'etfSPRatingAbove', 'etfSPRatingBelow', 'prevYrETFFYBVPerShareAbove', 'prevYrETFFYBVPerShareBelow', 'prevYrETFFYDividendYieldAbove', 'prevYrETFFYDividendYieldBelow', 'prevYrETFFYDPSAbove', 'prevYrETFFYDPSBelow', 'prevYrETFFYEPSAbove', 'prevYrETFFYEPSBelow', 'prevYrETFFYEPSGrowthAbove', 'prevYrETFFYEPSGrowthBelow', 'prevYrETFFYNetMarginAbove', 'prevYrETFFYNetMarginBelow', 'prevYrETFFYPriceToBookValueAbove', 'prevYrETFFYPriceToBookValueBelow', 'prevYrETFFYPriceToCashFlowAbove', 'prevYrETFFYPriceToCashFlowBelow', 'prevYrETFFYPriceToEarningsAbove', 'prevYrETFFYPriceToEarningsBelow', 'prevYrETFFYPriceToGrowthAbove', 'prevYrETFFYPriceToGrowthBelow', 'prevYrETFFYPriceToSalesAbove', 'prevYrETFFYPriceToSalesBelow', 'prevYrETFFYRoEAbove', 'prevYrETFFYRoEBelow', 'prevYrETFFYSPSAbove', 'prevYrETFFYSPSBelow', 'prevYrETFFYSPSGrowthAbove', 'prevYrETFFYSPSGrowthBelow', 'currYrETFFYBVPerShareAbove', 'currYrETFFYBVPerShareBelow', 'currYrETFFYDividendYieldAbove', 'currYrETFFYDividendYieldBelow', 'currYrETFFYDPSAbove', 'currYrETFFYDPSBelow', 'currYrETFFYEPSAbove', 'currYrETFFYEPSBelow', 'currYrETFFYEPSGrowthAbove', 'currYrETFFYEPSGrowthBelow', 'currYrETFFYNetMarginAbove', 'currYrETFFYNetMarginBelow', 'currYrETFFYPriceToBookValueAbove', 'currYrETFFYPriceToBookValueBelow', 'currYrETFFYPriceToCashFlowAbove', 'currYrETFFYPriceToCashFlowBelow', 'currYrETFFYPriceToEarningsAbove', 'currYrETFFYPriceToEarningsBelow', 'currYrETFFYPriceToGrowthAbove', 'currYrETFFYPriceToGrowthBelow', 'currYrETFFYPriceToSalesAbove', 'currYrETFFYPriceToSalesBelow', 'currYrETFFYRoEAbove', 'currYrETFFYRoEBelow', 'currYrETFFYSPSAbove', 'currYrETFFYSPSBelow', 'currYrETFFYSPSGrowthAbove', 'currYrETFFYSPSGrowthBelow', 'nextYrETFFYBVPerShareAbove', 'nextYrETFFYBVPerShareBelow', 'nextYrETFFYDividendYieldAbove', 'nextYrETFFYDividendYieldBelow', 'nextYrETFFYDPSAbove', 'nextYrETFFYDPSBelow', 'nextYrETFFYEPSAbove', 'nextYrETFFYEPSBelow', 'nextYrETFFYEPSGrowthAbove', 'nextYrETFFYEPSGrowthBelow', 'nextYrETFFYNetMarginAbove', 'nextYrETFFYNetMarginBelow', 'nextYrETFFYPriceToBookValueAbove', 'nextYrETFFYPriceToBookValueBelow', 'nextYrETFFYPriceToCashFlowAbove', 'nextYrETFFYPriceToCashFlowBelow', 'nextYrETFFYPriceToEarningsAbove', 'nextYrETFFYPriceToEarningsBelow', 'nextYrETFFYPriceToGrowthAbove', 'nextYrETFFYPriceToGrowthBelow', 'nextYrETFFYPriceToSalesAbove', 'nextYrETFFYPriceToSalesBelow', 'nextYrETFFYRoEAbove', 'nextYrETFFYRoEBelow', 'nextYrETFFYSPSAbove', 'nextYrETFFYSPSBelow', 'nextYrETFFYSPSGrowthAbove', 'nextYrETFFYSPSGrowthBelow', 'rcgLongTermClassIs', 'rcgLongTermTechnicalDateAbove', 'rcgLongTermTechnicalDateBelow', 'rcgLongTermEventScoreAbove', 'rcgLongTermEventScoreBelow', 'rcgLongTermTradeIs', 'rcgIntermediateTermClassIs', 'rcgIntermediateTermTechnicalDateAbove', 'rcgIntermediateTermTechnicalDateBelow', 'rcgIntermediateTermEventScoreAbove', 'rcgIntermediateTermEventScoreBelow', 'rcgIntermediateTermTradeIs', 'rcgShortTermClassIs', 'rcgShortTermTechnicalDateAbove', 'rcgShortTermTechnicalDateBelow', 'rcgShortTermEventScoreAbove', 'rcgShortTermEventScoreBelow', 'rcgShortTermTradeIs', 'curEMA20Above', 'curEMA20Below', 'curEMA50Above', 'curEMA50Below', 'curEMA100Above', 'curEMA100Below', 'curEMA200Above', 'curEMA200Below', 'lastVsEMAChangeRatio20Above', 'lastVsEMAChangeRatio20Below', 'lastVsEMAChangeRatio50Above', 'lastVsEMAChangeRatio50Below', 'lastVsEMAChangeRatio100Above', 'lastVsEMAChangeRatio100Below', 'lastVsEMAChangeRatio200Above', 'lastVsEMAChangeRatio200Below', 'curMACDAbove', 'curMACDBelow', 'curMACDSignalAbove', 'curMACDSignalBelow', 'curMACDDistAbove', 'curMACDDistBelow', 'curPPOAbove', 'curPPOBelow', 'curPPOSignalAbove', 'curPPOSignalBelow', 'curPPODistAbove', 'curPPODistBelow', 'epsChangeTTMAbove', 'epsChangeTTMBelow', 'revChangeAbove', 'revChangeBelow', 'revGrowthRate5YAbove', 'revGrowthRate5YBelow', 'payoutRatioTTMAbove', 'payoutRatioTTMBelow', 'price2CashTTMAbove', 'price2CashTTMBelow', 'operatingMarginTTMAbove', 'operatingMarginTTMBelow', 'netProfitMarginTTMAbove', 'netProfitMarginTTMBelow', 'returnOnInvestmentTTMAbove', 'returnOnInvestmentTTMBelow', 'esgScoreAbove', 'esgScoreBelow', 'esgCombinedScoreAbove', 'esgCombinedScoreBelow', 'esgControversiesScoreAbove', 'esgControversiesScoreBelow', 'esgResourceUseScoreAbove', 'esgResourceUseScoreBelow', 'esgEmissionsScoreAbove', 'esgEmissionsScoreBelow', 'esgEnvInvScoreAbove', 'esgEnvInvScoreBelow', 'esgWorkforceScoreAbove', 'esgWorkforceScoreBelow', 'esgHrScoreAbove', 'esgHrScoreBelow', 'esgCommunityScoreAbove', 'esgCommunityScoreBelow', 'esgProdRespScoreAbove', 'esgProdRespScoreBelow', 'esgManagementScoreAbove', 'esgManagementScoreBelow', 'esgShareholdersScoreAbove', 'esgShareholdersScoreBelow', 'esgStrategyScoreAbove', 'esgStrategyScoreBelow', 'esgEnvPillarScoreAbove', 'esgEnvPillarScoreBelow', 'esgSocialPillarScoreAbove', 'esgSocialPillarScoreBelow', 'esgCorpGovPillarScoreAbove', 'esgCorpGovPillarScoreBelow', 'ivRank13wAbove', 'ivRank13wBelow', 'ivRank26wAbove', 'ivRank26wBelow', 'ivRank52wAbove', 'ivRank52wBelow', 'ivPercntl13wAbove', 'ivPercntl13wBelow', 'ivPercntl26wAbove', 'ivPercntl26wBelow', 'ivPercntl52wAbove', 'ivPercntl52wBelow', 'hvRank13wAbove', 'hvRank13wBelow', 'HVRank26wAbove', 'HVRank26wBelow', 'HVRank52wAbove', 'HVRank52wBelow', 'HVPercntl13wAbove', 'HVPercntl13wBelow', 'HVPercntl26wAbove', 'HVPercntl26wBelow', 'HVPercntl52wAbove', 'HVPercntl52wBelow', 'mfTotalReturnScoreOverallAbove', 'mfTotalReturnScoreOverallBelow', 'mfConsistentReturnScoreOverallAbove', 'mfConsistentReturnScoreOverallBelow', 'mfPreservationScoreOverallAbove', 'mfPreservationScoreOverallBelow', 'mfTaxEfficiencyScoreOverallAbove', 'mfTaxEfficiencyScoreOverallBelow', 'mfExpenseScoreOverallAbove', 'mfExpenseScoreOverallBelow', 'mfTotalReturnScore3yrAbove', 'mfTotalReturnScore3yrBelow', 'mfConsistentReturnScore3yrAbove', 'mfConsistentReturnScore3yrBelow', 'mfPreservationScore3yrAbove', 'mfPreservationScore3yrBelow', 'mfTaxEfficiencyScore3yrAbove', 'mfTaxEfficiencyScore3yrBelow', 'mfExpenseScore3yrAbove', 'mfExpenseScore3yrBelow', 'mfTotalReturnScore5yrAbove', 'mfTotalReturnScore5yrBelow', 'mfConsistentReturnScore5yrAbove', 'mfConsistentReturnScore5yrBelow', 'mfPreservationScore5yrAbove', 'mfPreservationScore5yrBelow', 'mfTaxEfficiencyScore5yrAbove', 'mfTaxEfficiencyScore5yrBelow', 'mfExpenseScore5yrAbove', 'mfExpenseScore5yrBelow', 'mfTotalReturnScore10yrAbove', 'mfTotalReturnScore10yrBelow', 'mfConsistentReturnScore10yrAbove', 'mfConsistentReturnScore10yrBelow', 'mfPreservationScore10yrAbove', 'mfPreservationScore10yrBelow', 'mfTaxEfficiencyScore10yrAbove', 'mfTaxEfficiencyScore10yrBelow', 'mfExpenseScore10yrAbove', 'mfExpenseScore10yrBelow', 'mfPriceChangeValueAbove', 'mfPriceChangeValueBelow', 'lipperTotalNetAssetsAbove', 'lipperTotalNetAssetsBelow', 'lipperTotalExpenseRatioAbove', 'lipperTotalExpenseRatioBelow', 'lipperDistributionYield1yrValueAbove', 'lipperDistributionYield1yrValueBelow', 'lipperPercentageGrowthCumulativeValueAbove', 'lipperPercentageGrowthCumulativeValueBelow', 'lipperAnnualizedPerformance3yrValueAbove', 'lipperAnnualizedPerformance3yrValueBelow', 'lipperAnnualizedPerformance5yrValueAbove', 'lipperAnnualizedPerformance5yrValueBelow', 'lipperAnnualizedPerformance10yrValueAbove', 'lipperAnnualizedPerformance10yrValueBelow', 'lipperYieldValueAbove', 'lipperYieldValueBelow', 'lipperProjectedYieldValueAbove', 'lipperProjectedYieldValueBelow', 'lipperPctChangeAbove', 'lipperPctChangeBelow', 'lipperAdjustedRSquared1yrAbove', 'lipperAdjustedRSquared1yrBelow', 'lipperAlpha1yrAbove', 'lipperAlpha1yrBelow', 'lipperAverageLoss1yrAbove', 'lipperAverageLoss1yrBelow', 'lipperAverageReturn1yrAbove', 'lipperAverageReturn1yrBelow', 'lipperBearBeta1yrAbove', 'lipperBearBeta1yrBelow', 'lipperBeta1yrAbove', 'lipperBeta1yrBelow', 'lipperBullBeta1yrAbove', 'lipperBullBeta1yrBelow', 'lipperCovariance1yrAbove', 'lipperCovariance1yrBelow', 'lipperCorrelation1yrAbove', 'lipperCorrelation1yrBelow', 'lipperDownsideDeviationPopulation1yrAbove', 'lipperDownsideDeviationPopulation1yrBelow', 'lipperInformationRatio1yrAbove', 'lipperInformationRatio1yrBelow', 'lipperMaxGain1yrAbove', 'lipperMaxGain1yrBelow', 'lipperMaxLoss1yrAbove', 'lipperMaxLoss1yrBelow', 'lipperMaximumDrawdown1yrAbove', 'lipperMaximumDrawdown1yrBelow', 'lipperPositivePeriods1yrAbove', 'lipperPositivePeriods1yrBelow', 'lipperRSquared1yrAbove', 'lipperRSquared1yrBelow', 'lipperReturnRiskRatio1yrAbove', 'lipperReturnRiskRatio1yrBelow', 'lipperSRRI1yrAbove', 'lipperSRRI1yrBelow', 'lipperSemiDeviation1yrAbove', 'lipperSemiDeviation1yrBelow', 'lipperSemiVariance1yrAbove', 'lipperSemiVariance1yrBelow', 'lipperSharpeRatio1yrAbove', 'lipperSharpeRatio1yrBelow', 'lipperSortino1yrAbove', 'lipperSortino1yrBelow', 'lipperStandardDeviation1yrAbove', 'lipperStandardDeviation1yrBelow', 'lipperTrackingError1yrAbove', 'lipperTrackingError1yrBelow', 'lipperTreynorRatio1yrAbove', 'lipperTreynorRatio1yrBelow', 'lipperValueAtRiskNormal1yrAbove', 'lipperValueAtRiskNormal1yrBelow', 'lipperValueAtRiskNormalETL1yrAbove', 'lipperValueAtRiskNormalETL1yrBelow', 'lipperValueAtRiskQuantile1yrAbove', 'lipperValueAtRiskQuantile1yrBelow', 'lipperValueAtRiskQuantileETL1yrAbove', 'lipperValueAtRiskQuantileETL1yrBelow', 'lipperVariance1yrAbove', 'lipperVariance1yrBelow', 'lipperNumberOfSecuritiesAbove', 'lipperNumberOfSecuritiesBelow', 'lipperDividendPayoutRatioAbove', 'lipperDividendPayoutRatioBelow', 'lipperDividendPayoutRatio5yrAbove', 'lipperDividendPayoutRatio5yrBelow', 'lipperDividendPerShare1yrAbove', 'lipperDividendPerShare1yrBelow', 'lipperDividendPerShare3yrAbove', 'lipperDividendPerShare3yrBelow', 'lipperPrice2DividendAbove', 'lipperPrice2DividendBelow', 'lipperDividendYieldWAvgAbove', 'lipperDividendYieldWAvgBelow', 'lipperEBIT2InterestAbove', 'lipperEBIT2InterestBelow', 'lipperMktCapAvgLatestAbove', 'lipperMktCapAvgLatestBelow', 'lipperOperCashFlowGrowthRate3yrAbove', 'lipperOperCashFlowGrowthRate3yrBelow', 'lipperSalesGrowth1yrAbove', 'lipperSalesGrowth1yrBelow', 'lipperSalesGrowth3yrAbove', 'lipperSalesGrowth3yrBelow', 'lipperSalesGrowth5yrAbove', 'lipperSalesGrowth5yrBelow', 'lipperLatestPrice2EarningsRatioAbove', 'lipperLatestPrice2EarningsRatioBelow', 'lipperLatestPrice2BookRatioAbove', 'lipperLatestPrice2BookRatioBelow', 'lipperLatestPrice2SalesRatioAbove', 'lipperLatestPrice2SalesRatioBelow', 'lipperLatestReturnOnEquityWAvgAbove', 'lipperLatestReturnOnEquityWAvgBelow', 'lipperLatestSalesPerShareGrowth3yrAbove', 'lipperLatestSalesPerShareGrowth3yrBelow', 'lipperLTDebt2ShareholdersEquityAbove', 'lipperLTDebt2ShareholdersEquityBelow', 'lipperEPSGrowth1yrAbove', 'lipperEPSGrowth1yrBelow', 'lipperEPSGrowth3yrAbove', 'lipperEPSGrowth3yrBelow', 'lipperEPSGrowth5yrAbove', 'lipperEPSGrowth5yrBelow', 'lipperPrice2EarningsRatioAbove', 'lipperPrice2EarningsRatioBelow', 'lipperPrice2BookRatioAbove', 'lipperPrice2BookRatioBelow', 'lipperPrice2SalesRatioAbove', 'lipperPrice2SalesRatioBelow', 'lipperReturnOnAssets1yrAbove', 'lipperReturnOnAssets1yrBelow', 'lipperReturnOnAssets3yrAbove', 'lipperReturnOnAssets3yrBelow', 'lipperReturnOnEquity1yrAbove', 'lipperReturnOnEquity1yrBelow', 'lipperReturnOnEquity3yrAbove', 'lipperReturnOnEquity3yrBelow', 'lipperReturnOnInvestment1yrAbove', 'lipperReturnOnInvestment1yrBelow', 'lipperReturnOnInvestment3yrAbove', 'lipperReturnOnInvestment3yrBelow', 'lipperSales2TotalAssetsAbove', 'lipperSales2TotalAssetsBelow', 'lipperSalesPerShareGrowth1yrAbove', 'lipperSalesPerShareGrowth1yrBelow', 'lipperSalesPerShareGrowth3yrAbove', 'lipperSalesPerShareGrowth3yrBelow', 'lipperTotalAssets2TotalEquityAbove', 'lipperTotalAssets2TotalEquityBelow', 'lipperTotalDebt2TotalCapitalAbove', 'lipperTotalDebt2TotalCapitalBelow', 'lipperTotalDebt2TotalEquityAbove', 'lipperTotalDebt2TotalEquityBelow', 'lipperPrice2CashAbove', 'lipperPrice2CashBelow', 'lipperRelativeStrengthAbove', 'lipperRelativeStrengthBelow', 'lipperReturnOnCapitalAbove', 'lipperReturnOnCapitalBelow', 'lipperReturnOnCapital3yrAbove', 'lipperReturnOnCapital3yrBelow', 'lipperLatestCompositeZScoreAbove', 'lipperLatestCompositeZScoreBelow', 'lipperLatestPrice2EarningsZScoreAbove', 'lipperLatestPrice2EarningsZScoreBelow', 'lipperLatestPrice2BookZScoreAbove', 'lipperLatestPrice2BookZScoreBelow', 'lipperLatestPrice2SalesZScoreAbove', 'lipperLatestPrice2SalesZScoreBelow', 'lipperLatestSPSGrowthZScoreAbove', 'lipperLatestSPSGrowthZScoreBelow', 'lipperAverageFinalCompositeZScoreAbove', 'lipperAverageFinalCompositeZScoreBelow', 'lipperWeightedFinalCompositeZScoreAbove', 'lipperWeightedFinalCompositeZScoreBelow', 'lipperDividendYieldZScoreAbove', 'lipperDividendYieldZScoreBelow', 'lipperReturnOnEquityZScoreAbove', 'lipperReturnOnEquityZScoreBelow', 'lipperYieldToMaturityAbove', 'lipperYieldToMaturityBelow', 'lipperNominalMaturityAbove', 'lipperNominalMaturityBelow', 'lipperEffectiveMaturityAbove', 'lipperEffectiveMaturityBelow', 'lipperAverageCouponAbove', 'lipperAverageCouponBelow', 'lipperCalculatedAverageQualityAbove', 'lipperCalculatedAverageQualityBelow', 'lipperFundLeverageRatioAbove', 'lipperFundLeverageRatioBelow', 'socialSentimentScoreAbove', 'socialSentimentScoreBelow', 'socialSentimentScoreChangeAbove', 'socialSentimentScoreChangeBelow', 'tweetVolumeScoreAbove', 'tweetVolumeScoreBelow', 'tweetVolumeScoreChangeAbove', 'tweetVolumeScoreChangeBelow']\n"
     ]
    }
   ],
   "source": [
    "# parse XML document\n",
    "import xml.etree.ElementTree as ET\n",
    "tree = ET.fromstring(xml)\n",
    "\n",
    "# find all tags that are available for filtering\n",
    "tags = [elem.text for elem in tree.findall('.//AbstractField/code')]\n",
    "print(len(tags), 'tags:')\n",
    "print(tags)"
   ]
  },
  {
   "cell_type": "markdown",
   "metadata": {},
   "source": [
    "Notice how ``abovePrice`` is now called ``priceAbove``...\n",
    "\n",
    "Using three of these filter tags, let's perform a query to find all US stocks that went up 20% and have a current price between 5 and 50 dollar, sorted by percentage gain:"
   ]
  },
  {
   "cell_type": "code",
   "execution_count": 10,
   "metadata": {},
   "outputs": [
    {
     "name": "stdout",
     "output_type": "stream",
     "text": [
      "['DFEN', 'NUSI', 'ANNX', 'CORZ', 'CGDG']\n"
     ]
    },
    {
     "name": "stderr",
     "output_type": "stream",
     "text": [
      "Error 162, reqId 8: Historical Market Data Service error message:API scanner subscription cancelled: 8\n"
     ]
    }
   ],
   "source": [
    "sub = ScannerSubscription(\n",
    "    instrument='STK',\n",
    "    locationCode='STK.US.MAJOR',\n",
    "    scanCode='TOP_PERC_GAIN')\n",
    "\n",
    "tagValues = [\n",
    "    TagValue(\"changePercAbove\", \"20\"),\n",
    "    TagValue('priceAbove', 5),\n",
    "    TagValue('priceBelow', 50)]\n",
    "\n",
    "# the tagValues are given as 3rd argument; the 2nd argument must always be an empty list\n",
    "# (IB has not documented the 2nd argument and it's not clear what it does)\n",
    "scanData = ib.reqScannerData(sub, [], tagValues)\n",
    "\n",
    "symbols = [sd.contractDetails.contract.symbol for sd in scanData]\n",
    "print(symbols)"
   ]
  },
  {
   "cell_type": "markdown",
   "metadata": {},
   "source": [
    "Any scanner query that TWS can do can alse be done through the API. The `scanCode` parameter maps directly to the \"Parameter\" window in the TWS \"Advanced Market Scanner.\" We can verify this by printing out the `scanCode` values available:"
   ]
  },
  {
   "cell_type": "code",
   "execution_count": 11,
   "metadata": {},
   "outputs": [
    {
     "name": "stdout",
     "output_type": "stream",
     "text": [
      "818 scan codes, showing the ones starting with \"TOP\":\n",
      "['TOP_PERC_GAIN', 'TOP_PERC_LOSE', 'TOP_TRADE_COUNT', 'TOP_TRADE_RATE', 'TOP_PRICE_RANGE', 'TOP_VOLUME_RATE', 'TOP_OPEN_PERC_GAIN', 'TOP_OPEN_PERC_LOSE', 'TOP_AFTER_HOURS_PERC_GAIN', 'TOP_AFTER_HOURS_PERC_LOSE', 'TOP_OPT_IMP_VOLAT_GAIN', 'TOP_OPT_IMP_VOLAT_LOSE', 'TOP_STOCK_BUY_IMBALANCE_ADV_RATIO', 'TOP_STOCK_SELL_IMBALANCE_ADV_RATIO', 'TOP_STOCK_BUY_REG_IMBALANCE_ADV_RATIO', 'TOP_STOCK_SELL_REG_IMBALANCE_ADV_RATIO', 'TOP_PERC_GAIN', 'TOP_PERC_LOSE', 'TOP_TRADE_RATE', 'TOP_PERC_GAIN']\n"
     ]
    }
   ],
   "source": [
    "scanCodes = [e.text for e in tree.findall('.//scanCode')]\n",
    "\n",
    "print(len(scanCodes), 'scan codes, showing the ones starting with \"TOP\":')\n",
    "print([sc for sc in scanCodes if sc.startswith('TOP')])"
   ]
  },
  {
   "cell_type": "markdown",
   "metadata": {},
   "source": [
    "Queries are not limited to stocks. To get a list of all supported instruments:"
   ]
  },
  {
   "cell_type": "code",
   "execution_count": 12,
   "metadata": {
    "scrolled": true
   },
   "outputs": [
    {
     "name": "stdout",
     "output_type": "stream",
     "text": [
      "{'ETF.EQ.US', 'BOND.AGNCY', 'BOND', 'BOND.GOVT.NON-US', 'IND.HK', 'SLB.US', 'FUT.NA', 'BOND.MUNI', 'BOND.GOVT', 'SSF.NA', 'FUT.HK', 'IND.US', 'FUT.EU', 'STOCK.ME', 'STOCK.EU', 'SSF.HK', 'ETF.FI.US', 'BOND.CD', 'FUT.US', 'SSF.EU', 'NATCOMB', 'Global', 'STK', 'STOCK.NA', 'IND.EU', 'STOCK.HK', 'FUND.ALL'}\n"
     ]
    }
   ],
   "source": [
    "instrumentTypes = set(e.text for e in tree.findall('.//Instrument/type'))\n",
    "print(instrumentTypes)"
   ]
  },
  {
   "cell_type": "markdown",
   "metadata": {},
   "source": [
    "To find all location codes:"
   ]
  },
  {
   "cell_type": "code",
   "execution_count": 13,
   "metadata": {},
   "outputs": [
    {
     "name": "stdout",
     "output_type": "stream",
     "text": [
      "['STK.US', 'STK.US.MAJOR', 'STK.NYSE', 'STK.AMEX', 'STK.ARCA', 'STK.NASDAQ', 'STK.NASDAQ.NMS', 'STK.NASDAQ.SCM', 'STK.BATS', 'STK.US.MINOR', 'STK.PINK', 'ETF.EQ.US', 'ETF.EQ.US.MAJOR', 'ETF.EQ.ARCA', 'ETF.EQ.NASDAQ.NMS', 'ETF.EQ.BATS', 'ETF.FI.US', 'ETF.FI.US.MAJOR', 'ETF.FI.ARCA', 'ETF.FI.NASDAQ.NMS', 'ETF.FI.BATS', 'FUT.US', 'FUT.CME', 'FUT.CBOT', 'FUT.NYMEX', 'FUT.COMEX', 'FUT.IPE', 'FUT.ENDEX', 'FUT.NYBOT', 'FUT.NYSELIFFE', 'FUT.CFE', 'FUT.ICECRYPTO', 'IND.US', 'BOND.WW', 'BOND.US', 'BOND.EU.EURONEXT', 'BOND.CD.US', 'BOND.AGNCY.US', 'BOND.GOVT.US', 'BOND.MUNI.US', 'BOND.GOVT.NON-US', 'BOND.GOVT.US.NON-US', 'BOND.GOVT.EU.EURONEXT', 'BOND.GOVT.HK.SEHK', 'SLB.PREBORROW', 'FUND.ALL', 'FUND.US', 'FUND.NON-US', 'STK.NA', 'STK.NA.CANADA', 'STK.NA.TSE', 'STK.NA.VENTURE', 'STK.NA.MEXI', 'FUT.NA', 'FUT.NA.CDE', 'FUT.NA.MEXDER', 'SSF.NA', 'SSF.NA.MEXDER', 'STK.EU', 'STK.EU.VSE', 'STK.EU.SBF', 'STK.EU.IBIS', 'STK.EU.IBIS-XETRA', 'STK.EU.IBIS-EUSTARS', 'STK.EU.IBIS-USSTARS', 'STK.EU.IBIS-ETF', 'STK.EU.IBIS-NEWX', 'STK.EU.BVME', 'STK.EU.AEB', 'STK.EU.BM', 'STK.EU.SFB', 'STK.EU.EBS', 'STK.EU.LSE', 'STK.EU.OTHER', 'STK.EU.PRA', 'STK.EU.CPH', 'STK.EU.HEX', 'STK.EU.OSE', 'STK.EU.BVL', 'STK.EU.MOEX', 'FUT.EU', 'FUT.EU.BELFOX', 'FUT.EU.EUREX', 'FUT.EU.FTA', 'FUT.EU.IDEM', 'FUT.EU.UK', 'FUT.EU.ICEEU', 'FUT.EU.LMEOTC', 'FUT.EU.MEFFRV', 'FUT.EU.MONEP', 'FUT.EU.OMS', 'IND.EU', 'IND.EU.BELFOX', 'IND.EU.EUREX', 'IND.EU.FTA', 'IND.EU.ICEEU', 'IND.EU.MONEP', 'SSF.EU', 'SSF.EU.EUREX', 'SSF.EU.IDEM', 'SSF.EU.ICEEU', 'SSF.EU.MEFFRV', 'SSF.EU.OMS', 'STK.ME', 'STK.ME.TASE', 'STK.HK', 'STK.HK.TSE_JPN', 'STK.HK.SEHK', 'STK.HK.SEHKNTL', 'STK.HK.SEHKSTAR', 'STK.HK.SEHKSZSE', 'STK.HK.ASX', 'STK.HK.NSE', 'STK.HK.SGX', 'STK.HK.TWSE', 'FUT.HK', 'FUT.HK.HKFE', 'FUT.HK.KSE', 'FUT.HK.NSE', 'FUT.HK.OSE_JPN', 'FUT.HK.SGX', 'FUT.HK.SNFE', 'IND.HK', 'IND.HK.HKFE', 'IND.HK.KSE', 'IND.HK.NSE', 'IND.HK.OSE_JPN', 'IND.HK.SGX', 'IND.HK.SNFE', 'SSF.HK', 'SSF.HK.HKFE', 'SSF.HK.KSE', 'SSF.HK.NSE', 'SSF.HK.SGX', 'NATCOMB', 'NATCOMB.OPT.US', 'NATCOMB.OPT.AMEX', 'NATCOMB.OPT.CBOE', 'NATCOMB.OPT.ISE', 'NATCOMB.OPT.PHLX', 'NATCOMB.OPT.PSE', 'NATCOMB.CME']\n"
     ]
    }
   ],
   "source": [
    "locationCodes = [e.text for e in tree.findall('.//locationCode')]\n",
    "print(locationCodes)"
   ]
  },
  {
   "cell_type": "code",
   "execution_count": 14,
   "metadata": {},
   "outputs": [],
   "source": [
    "ib.disconnect()"
   ]
  },
  {
   "cell_type": "code",
   "execution_count": null,
   "metadata": {},
   "outputs": [],
   "source": []
  }
 ],
 "metadata": {
  "kernelspec": {
   "display_name": "Python 3",
   "language": "python",
   "name": "python3"
  },
  "language_info": {
   "codemirror_mode": {
    "name": "ipython",
    "version": 3
   },
   "file_extension": ".py",
   "mimetype": "text/x-python",
   "name": "python",
   "nbconvert_exporter": "python",
   "pygments_lexer": "ipython3",
   "version": "3.8.8"
  },
  "varInspector": {
   "cols": {
    "lenName": 16,
    "lenType": 16,
    "lenVar": 40
   },
   "kernels_config": {
    "python": {
     "delete_cmd_postfix": "",
     "delete_cmd_prefix": "del ",
     "library": "var_list.py",
     "varRefreshCmd": "print(var_dic_list())"
    },
    "r": {
     "delete_cmd_postfix": ") ",
     "delete_cmd_prefix": "rm(",
     "library": "var_list.r",
     "varRefreshCmd": "cat(var_dic_list()) "
    }
   },
   "types_to_exclude": [
    "module",
    "function",
    "builtin_function_or_method",
    "instance",
    "_Feature"
   ],
   "window_display": false
  }
 },
 "nbformat": 4,
 "nbformat_minor": 4
}
