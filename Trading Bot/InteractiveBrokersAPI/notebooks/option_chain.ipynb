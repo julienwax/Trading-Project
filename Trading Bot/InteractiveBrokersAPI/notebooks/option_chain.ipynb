{
 "cells": [
  {
   "cell_type": "markdown",
   "metadata": {},
   "source": [
    "Option chains\n",
    "======="
   ]
  },
  {
   "cell_type": "code",
   "execution_count": 1,
   "metadata": {
    "scrolled": true
   },
   "outputs": [
    {
     "data": {
      "text/plain": [
       "<IB connected to 127.0.0.1:7497 clientId=12>"
      ]
     },
     "execution_count": 1,
     "metadata": {},
     "output_type": "execute_result"
    }
   ],
   "source": [
    "from ib_insync import *\n",
    "util.startLoop()\n",
    "\n",
    "ib = IB()\n",
    "ib.connect('127.0.0.1', 7497, clientId=12)"
   ]
  },
  {
   "cell_type": "markdown",
   "metadata": {},
   "source": [
    "Suppose we want to find the options on the SPX, with the following conditions:\n",
    "\n",
    "* Use the next three monthly expiries;\n",
    "* Use strike prices within +- 20 dollar of the current SPX value;\n",
    "* Use strike prices that are a multitude of 5 dollar."
   ]
  },
  {
   "cell_type": "markdown",
   "metadata": {},
   "source": [
    "To get the current market value, first create a contract for the underlyer (the S&P 500 index):"
   ]
  },
  {
   "cell_type": "code",
   "execution_count": 2,
   "metadata": {},
   "outputs": [
    {
     "data": {
      "text/plain": [
       "[Index(conId=416904, symbol='SPX', exchange='CBOE', currency='USD', localSymbol='SPX')]"
      ]
     },
     "execution_count": 2,
     "metadata": {},
     "output_type": "execute_result"
    }
   ],
   "source": [
    "spx = Index('SPX', 'CBOE')\n",
    "ib.qualifyContracts(spx)"
   ]
  },
  {
   "cell_type": "markdown",
   "metadata": {},
   "source": [
    "To avoid issues with market data permissions, we'll use delayed data:"
   ]
  },
  {
   "cell_type": "code",
   "execution_count": 3,
   "metadata": {},
   "outputs": [],
   "source": [
    "ib.reqMarketDataType(4)"
   ]
  },
  {
   "cell_type": "markdown",
   "metadata": {},
   "source": [
    "Then get the ticker. Requesting a ticker can take up to 11 seconds."
   ]
  },
  {
   "cell_type": "code",
   "execution_count": 4,
   "metadata": {},
   "outputs": [
    {
     "data": {
      "text/plain": [
       "Ticker(contract=Index(conId=416904, symbol='SPX', exchange='CBOE', currency='USD', localSymbol='SPX'), time=datetime.datetime(2024, 6, 3, 15, 31, 36, 561042, tzinfo=datetime.timezone.utc), marketDataType=3, minTick=0.01, bid=-1.0, bidSize=0.0, ask=-1.0, askSize=0.0, last=5271.67, lastSize=1.0, high=5302.11, low=5262.25, close=5277.51)"
      ]
     },
     "execution_count": 4,
     "metadata": {},
     "output_type": "execute_result"
    }
   ],
   "source": [
    "[ticker] = ib.reqTickers(spx)\n",
    "ticker"
   ]
  },
  {
   "cell_type": "markdown",
   "metadata": {},
   "source": [
    "Take the current market value of the ticker:"
   ]
  },
  {
   "cell_type": "code",
   "execution_count": 5,
   "metadata": {},
   "outputs": [
    {
     "data": {
      "text/plain": [
       "5271.67"
      ]
     },
     "execution_count": 5,
     "metadata": {},
     "output_type": "execute_result"
    }
   ],
   "source": [
    "spxValue = ticker.marketPrice()\n",
    "spxValue"
   ]
  },
  {
   "cell_type": "markdown",
   "metadata": {},
   "source": [
    "The following request fetches a list of option chains:"
   ]
  },
  {
   "cell_type": "code",
   "execution_count": 6,
   "metadata": {},
   "outputs": [
    {
     "data": {
      "text/html": [
       "<div>\n",
       "<style scoped>\n",
       "    .dataframe tbody tr th:only-of-type {\n",
       "        vertical-align: middle;\n",
       "    }\n",
       "\n",
       "    .dataframe tbody tr th {\n",
       "        vertical-align: top;\n",
       "    }\n",
       "\n",
       "    .dataframe thead th {\n",
       "        text-align: right;\n",
       "    }\n",
       "</style>\n",
       "<table border=\"1\" class=\"dataframe\">\n",
       "  <thead>\n",
       "    <tr style=\"text-align: right;\">\n",
       "      <th></th>\n",
       "      <th>exchange</th>\n",
       "      <th>underlyingConId</th>\n",
       "      <th>tradingClass</th>\n",
       "      <th>multiplier</th>\n",
       "      <th>expirations</th>\n",
       "      <th>strikes</th>\n",
       "    </tr>\n",
       "  </thead>\n",
       "  <tbody>\n",
       "    <tr>\n",
       "      <th>0</th>\n",
       "      <td>SMART</td>\n",
       "      <td>416904</td>\n",
       "      <td>SPX</td>\n",
       "      <td>100</td>\n",
       "      <td>[20240620, 20240718, 20240815, 20240919, 20241...</td>\n",
       "      <td>[200.0, 400.0, 500.0, 600.0, 800.0, 1000.0, 12...</td>\n",
       "    </tr>\n",
       "    <tr>\n",
       "      <th>1</th>\n",
       "      <td>IBUSOPT</td>\n",
       "      <td>416904</td>\n",
       "      <td>SPX</td>\n",
       "      <td>100</td>\n",
       "      <td>[20240620, 20240718, 20240815, 20240919, 20241...</td>\n",
       "      <td>[200.0, 400.0, 500.0, 600.0, 800.0, 1000.0, 12...</td>\n",
       "    </tr>\n",
       "    <tr>\n",
       "      <th>2</th>\n",
       "      <td>CBOE</td>\n",
       "      <td>416904</td>\n",
       "      <td>SPXW</td>\n",
       "      <td>100</td>\n",
       "      <td>[20240603, 20240604, 20240605, 20240606, 20240...</td>\n",
       "      <td>[200.0, 400.0, 600.0, 800.0, 1000.0, 1200.0, 1...</td>\n",
       "    </tr>\n",
       "    <tr>\n",
       "      <th>3</th>\n",
       "      <td>IBUSOPT</td>\n",
       "      <td>416904</td>\n",
       "      <td>SPXW</td>\n",
       "      <td>100</td>\n",
       "      <td>[20240603, 20240604, 20240605, 20240606, 20240...</td>\n",
       "      <td>[200.0, 400.0, 600.0, 800.0, 1000.0, 1200.0, 1...</td>\n",
       "    </tr>\n",
       "    <tr>\n",
       "      <th>4</th>\n",
       "      <td>SMART</td>\n",
       "      <td>416904</td>\n",
       "      <td>SPXW</td>\n",
       "      <td>100</td>\n",
       "      <td>[20240603, 20240604, 20240605, 20240606, 20240...</td>\n",
       "      <td>[200.0, 400.0, 600.0, 800.0, 1000.0, 1200.0, 1...</td>\n",
       "    </tr>\n",
       "    <tr>\n",
       "      <th>5</th>\n",
       "      <td>CBOE</td>\n",
       "      <td>416904</td>\n",
       "      <td>SPX</td>\n",
       "      <td>100</td>\n",
       "      <td>[20240620, 20240718, 20240815, 20240919, 20241...</td>\n",
       "      <td>[200.0, 400.0, 500.0, 600.0, 800.0, 1000.0, 12...</td>\n",
       "    </tr>\n",
       "  </tbody>\n",
       "</table>\n",
       "</div>"
      ],
      "text/plain": [
       "  exchange underlyingConId tradingClass multiplier  \\\n",
       "0    SMART          416904          SPX        100   \n",
       "1  IBUSOPT          416904          SPX        100   \n",
       "2     CBOE          416904         SPXW        100   \n",
       "3  IBUSOPT          416904         SPXW        100   \n",
       "4    SMART          416904         SPXW        100   \n",
       "5     CBOE          416904          SPX        100   \n",
       "\n",
       "                                         expirations  \\\n",
       "0  [20240620, 20240718, 20240815, 20240919, 20241...   \n",
       "1  [20240620, 20240718, 20240815, 20240919, 20241...   \n",
       "2  [20240603, 20240604, 20240605, 20240606, 20240...   \n",
       "3  [20240603, 20240604, 20240605, 20240606, 20240...   \n",
       "4  [20240603, 20240604, 20240605, 20240606, 20240...   \n",
       "5  [20240620, 20240718, 20240815, 20240919, 20241...   \n",
       "\n",
       "                                             strikes  \n",
       "0  [200.0, 400.0, 500.0, 600.0, 800.0, 1000.0, 12...  \n",
       "1  [200.0, 400.0, 500.0, 600.0, 800.0, 1000.0, 12...  \n",
       "2  [200.0, 400.0, 600.0, 800.0, 1000.0, 1200.0, 1...  \n",
       "3  [200.0, 400.0, 600.0, 800.0, 1000.0, 1200.0, 1...  \n",
       "4  [200.0, 400.0, 600.0, 800.0, 1000.0, 1200.0, 1...  \n",
       "5  [200.0, 400.0, 500.0, 600.0, 800.0, 1000.0, 12...  "
      ]
     },
     "execution_count": 6,
     "metadata": {},
     "output_type": "execute_result"
    }
   ],
   "source": [
    "chains = ib.reqSecDefOptParams(spx.symbol, '', spx.secType, spx.conId)\n",
    "\n",
    "util.df(chains)"
   ]
  },
  {
   "cell_type": "markdown",
   "metadata": {},
   "source": [
    "These are four option chains that differ in ``exchange`` and ``tradingClass``. The latter is 'SPX' for the monthly and  'SPXW' for the weekly options. Note that the weekly expiries are disjoint from the monthly ones, so when interested in the weekly options the monthly options can be added as well.\n",
    "\n",
    "In this case we're only interested in the monthly options trading on SMART:"
   ]
  },
  {
   "cell_type": "code",
   "execution_count": 7,
   "metadata": {},
   "outputs": [
    {
     "data": {
      "text/plain": [
       "OptionChain(exchange='SMART', underlyingConId='416904', tradingClass='SPX', multiplier='100', expirations=['20240620', '20240718', '20240815', '20240919', '20241017', '20241114', '20241219', '20250116', '20250220', '20250320', '20250416', '20250515', '20250618', '20251218', '20261217', '20271216', '20281214', '20291220'], strikes=[200.0, 400.0, 500.0, 600.0, 800.0, 1000.0, 1200.0, 1400.0, 1600.0, 1700.0, 1800.0, 1900.0, 2000.0, 2100.0, 2200.0, 2300.0, 2350.0, 2400.0, 2450.0, 2500.0, 2550.0, 2600.0, 2650.0, 2675.0, 2700.0, 2725.0, 2750.0, 2775.0, 2800.0, 2825.0, 2850.0, 2875.0, 2900.0, 2925.0, 2950.0, 2975.0, 3000.0, 3025.0, 3050.0, 3075.0, 3100.0, 3125.0, 3150.0, 3175.0, 3200.0, 3225.0, 3250.0, 3275.0, 3300.0, 3325.0, 3350.0, 3375.0, 3400.0, 3425.0, 3450.0, 3475.0, 3500.0, 3525.0, 3550.0, 3575.0, 3600.0, 3625.0, 3650.0, 3675.0, 3700.0, 3725.0, 3750.0, 3775.0, 3800.0, 3825.0, 3850.0, 3875.0, 3900.0, 3925.0, 3950.0, 3975.0, 4000.0, 4010.0, 4020.0, 4025.0, 4030.0, 4040.0, 4050.0, 4060.0, 4070.0, 4075.0, 4080.0, 4090.0, 4100.0, 4110.0, 4120.0, 4125.0, 4130.0, 4140.0, 4150.0, 4160.0, 4170.0, 4175.0, 4180.0, 4190.0, 4200.0, 4210.0, 4220.0, 4225.0, 4230.0, 4240.0, 4250.0, 4260.0, 4270.0, 4275.0, 4280.0, 4290.0, 4300.0, 4310.0, 4320.0, 4325.0, 4330.0, 4340.0, 4350.0, 4360.0, 4370.0, 4375.0, 4380.0, 4390.0, 4400.0, 4410.0, 4420.0, 4425.0, 4430.0, 4440.0, 4450.0, 4460.0, 4470.0, 4475.0, 4480.0, 4490.0, 4500.0, 4510.0, 4520.0, 4525.0, 4530.0, 4540.0, 4550.0, 4560.0, 4570.0, 4575.0, 4580.0, 4590.0, 4600.0, 4605.0, 4610.0, 4615.0, 4620.0, 4625.0, 4630.0, 4635.0, 4640.0, 4645.0, 4650.0, 4655.0, 4660.0, 4665.0, 4670.0, 4675.0, 4680.0, 4685.0, 4690.0, 4695.0, 4700.0, 4705.0, 4710.0, 4715.0, 4720.0, 4725.0, 4730.0, 4735.0, 4740.0, 4745.0, 4750.0, 4755.0, 4760.0, 4765.0, 4770.0, 4775.0, 4780.0, 4785.0, 4790.0, 4795.0, 4800.0, 4805.0, 4810.0, 4815.0, 4820.0, 4825.0, 4830.0, 4835.0, 4840.0, 4845.0, 4850.0, 4855.0, 4860.0, 4865.0, 4870.0, 4875.0, 4880.0, 4885.0, 4890.0, 4895.0, 4900.0, 4905.0, 4910.0, 4915.0, 4920.0, 4925.0, 4930.0, 4935.0, 4940.0, 4945.0, 4950.0, 4955.0, 4960.0, 4965.0, 4970.0, 4975.0, 4980.0, 4985.0, 4990.0, 4995.0, 5000.0, 5005.0, 5010.0, 5015.0, 5020.0, 5025.0, 5030.0, 5035.0, 5040.0, 5045.0, 5050.0, 5055.0, 5060.0, 5065.0, 5070.0, 5075.0, 5080.0, 5085.0, 5090.0, 5095.0, 5100.0, 5105.0, 5110.0, 5115.0, 5120.0, 5125.0, 5130.0, 5135.0, 5140.0, 5145.0, 5150.0, 5155.0, 5160.0, 5165.0, 5170.0, 5175.0, 5180.0, 5185.0, 5190.0, 5195.0, 5200.0, 5205.0, 5210.0, 5215.0, 5220.0, 5225.0, 5230.0, 5235.0, 5240.0, 5245.0, 5250.0, 5255.0, 5260.0, 5265.0, 5270.0, 5275.0, 5280.0, 5285.0, 5290.0, 5295.0, 5300.0, 5305.0, 5310.0, 5315.0, 5320.0, 5325.0, 5330.0, 5335.0, 5340.0, 5345.0, 5350.0, 5355.0, 5360.0, 5365.0, 5370.0, 5375.0, 5380.0, 5385.0, 5390.0, 5395.0, 5400.0, 5405.0, 5410.0, 5415.0, 5420.0, 5425.0, 5430.0, 5435.0, 5440.0, 5445.0, 5450.0, 5455.0, 5460.0, 5465.0, 5470.0, 5475.0, 5480.0, 5485.0, 5490.0, 5495.0, 5500.0, 5505.0, 5510.0, 5520.0, 5525.0, 5530.0, 5540.0, 5550.0, 5560.0, 5570.0, 5575.0, 5580.0, 5590.0, 5600.0, 5610.0, 5620.0, 5625.0, 5630.0, 5640.0, 5650.0, 5660.0, 5670.0, 5675.0, 5680.0, 5690.0, 5700.0, 5725.0, 5750.0, 5775.0, 5800.0, 5825.0, 5850.0, 5875.0, 5900.0, 5925.0, 5950.0, 5975.0, 6000.0, 6025.0, 6050.0, 6075.0, 6100.0, 6150.0, 6200.0, 6250.0, 6300.0, 6350.0, 6400.0, 6500.0, 6600.0, 6700.0, 6800.0, 7000.0, 7200.0, 7400.0, 7600.0, 7800.0, 8000.0, 8200.0, 8300.0, 8400.0, 8600.0, 8800.0, 9000.0, 9200.0, 9600.0, 10000.0, 12000.0])"
      ]
     },
     "execution_count": 7,
     "metadata": {},
     "output_type": "execute_result"
    }
   ],
   "source": [
    "chain = next(c for c in chains if c.tradingClass == 'SPX' and c.exchange == 'SMART')\n",
    "chain"
   ]
  },
  {
   "cell_type": "markdown",
   "metadata": {},
   "source": [
    "What we have here is the full matrix of expirations x strikes. From this we can build all the option contracts that meet our conditions:"
   ]
  },
  {
   "cell_type": "code",
   "execution_count": 8,
   "metadata": {},
   "outputs": [
    {
     "data": {
      "text/plain": [
       "48"
      ]
     },
     "execution_count": 8,
     "metadata": {},
     "output_type": "execute_result"
    }
   ],
   "source": [
    "strikes = [strike for strike in chain.strikes\n",
    "        if strike % 5 == 0\n",
    "        and spxValue - 20 < strike < spxValue + 20]\n",
    "expirations = sorted(exp for exp in chain.expirations)[:3]\n",
    "rights = ['P', 'C']\n",
    "\n",
    "contracts = [Option('SPX', expiration, strike, right, 'SMART', tradingClass='SPX')\n",
    "        for right in rights\n",
    "        for expiration in expirations\n",
    "        for strike in strikes]\n",
    "\n",
    "contracts = ib.qualifyContracts(*contracts)\n",
    "len(contracts)"
   ]
  },
  {
   "cell_type": "code",
   "execution_count": 9,
   "metadata": {},
   "outputs": [
    {
     "data": {
      "text/plain": [
       "Option(conId=689492328, symbol='SPX', lastTradeDateOrContractMonth='20240620', strike=5255.0, right='P', multiplier='100', exchange='SMART', currency='USD', localSymbol='SPX   240621P05255000', tradingClass='SPX')"
      ]
     },
     "execution_count": 9,
     "metadata": {},
     "output_type": "execute_result"
    }
   ],
   "source": [
    "contracts[0]"
   ]
  },
  {
   "cell_type": "markdown",
   "metadata": {},
   "source": [
    "Now to get the market data for all options in one go:"
   ]
  },
  {
   "cell_type": "code",
   "execution_count": null,
   "metadata": {},
   "outputs": [
    {
     "name": "stderr",
     "output_type": "stream",
     "text": [
      "Error 10090, reqId 61: Part of requested market data is not subscribed. Subscription-independent ticks are still active.Delayed market data is available.SPX S&P 500 Stock Index/TOP/ALL, contract: Option(conId=681175922, symbol='SPX', lastTradeDateOrContractMonth='20240620', strike=5290.0, right='P', multiplier='100', exchange='SMART', currency='USD', localSymbol='SPX   240621P05290000', tradingClass='SPX')\n",
      "Error 10090, reqId 62: Part of requested market data is not subscribed. Subscription-independent ticks are still active.Delayed market data is available.SPX S&P 500 Stock Index/TOP/ALL, contract: Option(conId=691599080, symbol='SPX', lastTradeDateOrContractMonth='20240718', strike=5255.0, right='P', multiplier='100', exchange='SMART', currency='USD', localSymbol='SPX   240719P05255000', tradingClass='SPX')\n",
      "Error 10090, reqId 58: Part of requested market data is not subscribed. Subscription-independent ticks are still active.Delayed market data is available.SPX S&P 500 Stock Index/TOP/ALL, contract: Option(conId=673603886, symbol='SPX', lastTradeDateOrContractMonth='20240620', strike=5275.0, right='P', multiplier='100', exchange='SMART', currency='USD', localSymbol='SPX   240621P05275000', tradingClass='SPX')\n",
      "Error 10090, reqId 55: Part of requested market data is not subscribed. Subscription-independent ticks are still active.Delayed market data is available.SPX S&P 500 Stock Index/TOP/ALL, contract: Option(conId=681175888, symbol='SPX', lastTradeDateOrContractMonth='20240620', strike=5260.0, right='P', multiplier='100', exchange='SMART', currency='USD', localSymbol='SPX   240621P05260000', tradingClass='SPX')\n",
      "Error 10090, reqId 56: Part of requested market data is not subscribed. Subscription-independent ticks are still active.Delayed market data is available.SPX S&P 500 Stock Index/TOP/ALL, contract: Option(conId=689492339, symbol='SPX', lastTradeDateOrContractMonth='20240620', strike=5265.0, right='P', multiplier='100', exchange='SMART', currency='USD', localSymbol='SPX   240621P05265000', tradingClass='SPX')\n",
      "Error 10090, reqId 57: Part of requested market data is not subscribed. Subscription-independent ticks are still active.Delayed market data is available.SPX S&P 500 Stock Index/TOP/ALL, contract: Option(conId=681175903, symbol='SPX', lastTradeDateOrContractMonth='20240620', strike=5270.0, right='P', multiplier='100', exchange='SMART', currency='USD', localSymbol='SPX   240621P05270000', tradingClass='SPX')\n",
      "Error 10090, reqId 60: Part of requested market data is not subscribed. Subscription-independent ticks are still active.Delayed market data is available.SPX S&P 500 Stock Index/TOP/ALL, contract: Option(conId=689492355, symbol='SPX', lastTradeDateOrContractMonth='20240620', strike=5285.0, right='P', multiplier='100', exchange='SMART', currency='USD', localSymbol='SPX   240621P05285000', tradingClass='SPX')\n",
      "Error 10090, reqId 59: Part of requested market data is not subscribed. Subscription-independent ticks are still active.Delayed market data is available.SPX S&P 500 Stock Index/TOP/ALL, contract: Option(conId=681175910, symbol='SPX', lastTradeDateOrContractMonth='20240620', strike=5280.0, right='P', multiplier='100', exchange='SMART', currency='USD', localSymbol='SPX   240621P05280000', tradingClass='SPX')\n",
      "Error 10090, reqId 54: Part of requested market data is not subscribed. Subscription-independent ticks are still active.Delayed market data is available.SPX S&P 500 Stock Index/TOP/ALL, contract: Option(conId=689492328, symbol='SPX', lastTradeDateOrContractMonth='20240620', strike=5255.0, right='P', multiplier='100', exchange='SMART', currency='USD', localSymbol='SPX   240621P05255000', tradingClass='SPX')\n",
      "Error 10090, reqId 63: Part of requested market data is not subscribed. Subscription-independent ticks are still active.Delayed market data is available.SPX S&P 500 Stock Index/TOP/ALL, contract: Option(conId=681176036, symbol='SPX', lastTradeDateOrContractMonth='20240718', strike=5260.0, right='P', multiplier='100', exchange='SMART', currency='USD', localSymbol='SPX   240719P05260000', tradingClass='SPX')\n",
      "Error 10090, reqId 64: Part of requested market data is not subscribed. Subscription-independent ticks are still active.Delayed market data is available.SPX S&P 500 Stock Index/TOP/ALL, contract: Option(conId=691599106, symbol='SPX', lastTradeDateOrContractMonth='20240718', strike=5265.0, right='P', multiplier='100', exchange='SMART', currency='USD', localSymbol='SPX   240719P05265000', tradingClass='SPX')\n",
      "Error 10090, reqId 65: Part of requested market data is not subscribed. Subscription-independent ticks are still active.Delayed market data is available.SPX S&P 500 Stock Index/TOP/ALL, contract: Option(conId=681176046, symbol='SPX', lastTradeDateOrContractMonth='20240718', strike=5270.0, right='P', multiplier='100', exchange='SMART', currency='USD', localSymbol='SPX   240719P05270000', tradingClass='SPX')\n",
      "Error 10090, reqId 66: Part of requested market data is not subscribed. Subscription-independent ticks are still active.Delayed market data is available.SPX S&P 500 Stock Index/TOP/ALL, contract: Option(conId=679347403, symbol='SPX', lastTradeDateOrContractMonth='20240718', strike=5275.0, right='P', multiplier='100', exchange='SMART', currency='USD', localSymbol='SPX   240719P05275000', tradingClass='SPX')\n",
      "Error 10090, reqId 67: Part of requested market data is not subscribed. Subscription-independent ticks are still active.Delayed market data is available.SPX S&P 500 Stock Index/TOP/ALL, contract: Option(conId=681176063, symbol='SPX', lastTradeDateOrContractMonth='20240718', strike=5280.0, right='P', multiplier='100', exchange='SMART', currency='USD', localSymbol='SPX   240719P05280000', tradingClass='SPX')\n",
      "Error 10090, reqId 68: Part of requested market data is not subscribed. Subscription-independent ticks are still active.Delayed market data is available.SPX S&P 500 Stock Index/TOP/ALL, contract: Option(conId=692909835, symbol='SPX', lastTradeDateOrContractMonth='20240718', strike=5285.0, right='P', multiplier='100', exchange='SMART', currency='USD', localSymbol='SPX   240719P05285000', tradingClass='SPX')\n",
      "Error 10090, reqId 69: Part of requested market data is not subscribed. Subscription-independent ticks are still active.Delayed market data is available.SPX S&P 500 Stock Index/TOP/ALL, contract: Option(conId=681176071, symbol='SPX', lastTradeDateOrContractMonth='20240718', strike=5290.0, right='P', multiplier='100', exchange='SMART', currency='USD', localSymbol='SPX   240719P05290000', tradingClass='SPX')\n",
      "Error 10090, reqId 70: Part of requested market data is not subscribed. Subscription-independent ticks are still active.Delayed market data is available.SPX S&P 500 Stock Index/TOP/ALL, contract: Option(conId=704885951, symbol='SPX', lastTradeDateOrContractMonth='20240815', strike=5255.0, right='P', multiplier='100', exchange='SMART', currency='USD', localSymbol='SPX   240816P05255000', tradingClass='SPX')\n",
      "Error 10090, reqId 71: Part of requested market data is not subscribed. Subscription-independent ticks are still active.Delayed market data is available.SPX S&P 500 Stock Index/TOP/ALL, contract: Option(conId=685384921, symbol='SPX', lastTradeDateOrContractMonth='20240815', strike=5260.0, right='P', multiplier='100', exchange='SMART', currency='USD', localSymbol='SPX   240816P05260000', tradingClass='SPX')\n",
      "Error 10090, reqId 72: Part of requested market data is not subscribed. Subscription-independent ticks are still active.Delayed market data is available.SPX S&P 500 Stock Index/TOP/ALL, contract: Option(conId=704885974, symbol='SPX', lastTradeDateOrContractMonth='20240815', strike=5265.0, right='P', multiplier='100', exchange='SMART', currency='USD', localSymbol='SPX   240816P05265000', tradingClass='SPX')\n",
      "Error 10090, reqId 73: Part of requested market data is not subscribed. Subscription-independent ticks are still active.Delayed market data is available.SPX S&P 500 Stock Index/TOP/ALL, contract: Option(conId=685384924, symbol='SPX', lastTradeDateOrContractMonth='20240815', strike=5270.0, right='P', multiplier='100', exchange='SMART', currency='USD', localSymbol='SPX   240816P05270000', tradingClass='SPX')\n",
      "Error 10090, reqId 74: Part of requested market data is not subscribed. Subscription-independent ticks are still active.Delayed market data is available.SPX S&P 500 Stock Index/TOP/ALL, contract: Option(conId=645972124, symbol='SPX', lastTradeDateOrContractMonth='20240815', strike=5275.0, right='P', multiplier='100', exchange='SMART', currency='USD', localSymbol='SPX   240816P05275000', tradingClass='SPX')\n",
      "Error 10090, reqId 75: Part of requested market data is not subscribed. Subscription-independent ticks are still active.Delayed market data is available.SPX S&P 500 Stock Index/TOP/ALL, contract: Option(conId=685384933, symbol='SPX', lastTradeDateOrContractMonth='20240815', strike=5280.0, right='P', multiplier='100', exchange='SMART', currency='USD', localSymbol='SPX   240816P05280000', tradingClass='SPX')\n",
      "Error 10090, reqId 76: Part of requested market data is not subscribed. Subscription-independent ticks are still active.Delayed market data is available.SPX S&P 500 Stock Index/TOP/ALL, contract: Option(conId=704886001, symbol='SPX', lastTradeDateOrContractMonth='20240815', strike=5285.0, right='P', multiplier='100', exchange='SMART', currency='USD', localSymbol='SPX   240816P05285000', tradingClass='SPX')\n",
      "Error 10090, reqId 77: Part of requested market data is not subscribed. Subscription-independent ticks are still active.Delayed market data is available.SPX S&P 500 Stock Index/TOP/ALL, contract: Option(conId=685384943, symbol='SPX', lastTradeDateOrContractMonth='20240815', strike=5290.0, right='P', multiplier='100', exchange='SMART', currency='USD', localSymbol='SPX   240816P05290000', tradingClass='SPX')\n",
      "Error 10090, reqId 78: Part of requested market data is not subscribed. Subscription-independent ticks are still active.Delayed market data is available.SPX S&P 500 Stock Index/TOP/ALL, contract: Option(conId=689492184, symbol='SPX', lastTradeDateOrContractMonth='20240620', strike=5255.0, right='C', multiplier='100', exchange='SMART', currency='USD', localSymbol='SPX   240621C05255000', tradingClass='SPX')\n",
      "Error 10090, reqId 79: Part of requested market data is not subscribed. Subscription-independent ticks are still active.Delayed market data is available.SPX S&P 500 Stock Index/TOP/ALL, contract: Option(conId=681175823, symbol='SPX', lastTradeDateOrContractMonth='20240620', strike=5260.0, right='C', multiplier='100', exchange='SMART', currency='USD', localSymbol='SPX   240621C05260000', tradingClass='SPX')\n",
      "Error 10090, reqId 80: Part of requested market data is not subscribed. Subscription-independent ticks are still active.Delayed market data is available.SPX S&P 500 Stock Index/TOP/ALL, contract: Option(conId=689492196, symbol='SPX', lastTradeDateOrContractMonth='20240620', strike=5265.0, right='C', multiplier='100', exchange='SMART', currency='USD', localSymbol='SPX   240621C05265000', tradingClass='SPX')\n",
      "Error 10090, reqId 81: Part of requested market data is not subscribed. Subscription-independent ticks are still active.Delayed market data is available.SPX S&P 500 Stock Index/TOP/ALL, contract: Option(conId=681175828, symbol='SPX', lastTradeDateOrContractMonth='20240620', strike=5270.0, right='C', multiplier='100', exchange='SMART', currency='USD', localSymbol='SPX   240621C05270000', tradingClass='SPX')\n",
      "Error 10090, reqId 82: Part of requested market data is not subscribed. Subscription-independent ticks are still active.Delayed market data is available.SPX S&P 500 Stock Index/TOP/ALL, contract: Option(conId=673603522, symbol='SPX', lastTradeDateOrContractMonth='20240620', strike=5275.0, right='C', multiplier='100', exchange='SMART', currency='USD', localSymbol='SPX   240621C05275000', tradingClass='SPX')\n",
      "Error 10090, reqId 83: Part of requested market data is not subscribed. Subscription-independent ticks are still active.Delayed market data is available.SPX S&P 500 Stock Index/TOP/ALL, contract: Option(conId=681175838, symbol='SPX', lastTradeDateOrContractMonth='20240620', strike=5280.0, right='C', multiplier='100', exchange='SMART', currency='USD', localSymbol='SPX   240621C05280000', tradingClass='SPX')\n",
      "Error 10090, reqId 84: Part of requested market data is not subscribed. Subscription-independent ticks are still active.Delayed market data is available.SPX S&P 500 Stock Index/TOP/ALL, contract: Option(conId=689492203, symbol='SPX', lastTradeDateOrContractMonth='20240620', strike=5285.0, right='C', multiplier='100', exchange='SMART', currency='USD', localSymbol='SPX   240621C05285000', tradingClass='SPX')\n",
      "Error 10090, reqId 85: Part of requested market data is not subscribed. Subscription-independent ticks are still active.Delayed market data is available.SPX S&P 500 Stock Index/TOP/ALL, contract: Option(conId=681175848, symbol='SPX', lastTradeDateOrContractMonth='20240620', strike=5290.0, right='C', multiplier='100', exchange='SMART', currency='USD', localSymbol='SPX   240621C05290000', tradingClass='SPX')\n",
      "Error 10090, reqId 86: Part of requested market data is not subscribed. Subscription-independent ticks are still active.Delayed market data is available.SPX S&P 500 Stock Index/TOP/ALL, contract: Option(conId=691598340, symbol='SPX', lastTradeDateOrContractMonth='20240718', strike=5255.0, right='C', multiplier='100', exchange='SMART', currency='USD', localSymbol='SPX   240719C05255000', tradingClass='SPX')\n",
      "Error 10090, reqId 87: Part of requested market data is not subscribed. Subscription-independent ticks are still active.Delayed market data is available.SPX S&P 500 Stock Index/TOP/ALL, contract: Option(conId=681175964, symbol='SPX', lastTradeDateOrContractMonth='20240718', strike=5260.0, right='C', multiplier='100', exchange='SMART', currency='USD', localSymbol='SPX   240719C05260000', tradingClass='SPX')\n",
      "Error 10090, reqId 88: Part of requested market data is not subscribed. Subscription-independent ticks are still active.Delayed market data is available.SPX S&P 500 Stock Index/TOP/ALL, contract: Option(conId=691598362, symbol='SPX', lastTradeDateOrContractMonth='20240718', strike=5265.0, right='C', multiplier='100', exchange='SMART', currency='USD', localSymbol='SPX   240719C05265000', tradingClass='SPX')\n",
      "Error 10090, reqId 89: Part of requested market data is not subscribed. Subscription-independent ticks are still active.Delayed market data is available.SPX S&P 500 Stock Index/TOP/ALL, contract: Option(conId=681175978, symbol='SPX', lastTradeDateOrContractMonth='20240718', strike=5270.0, right='C', multiplier='100', exchange='SMART', currency='USD', localSymbol='SPX   240719C05270000', tradingClass='SPX')\n",
      "Error 10090, reqId 90: Part of requested market data is not subscribed. Subscription-independent ticks are still active.Delayed market data is available.SPX S&P 500 Stock Index/TOP/ALL, contract: Option(conId=679347034, symbol='SPX', lastTradeDateOrContractMonth='20240718', strike=5275.0, right='C', multiplier='100', exchange='SMART', currency='USD', localSymbol='SPX   240719C05275000', tradingClass='SPX')\n",
      "Error 10090, reqId 91: Part of requested market data is not subscribed. Subscription-independent ticks are still active.Delayed market data is available.SPX S&P 500 Stock Index/TOP/ALL, contract: Option(conId=681175985, symbol='SPX', lastTradeDateOrContractMonth='20240718', strike=5280.0, right='C', multiplier='100', exchange='SMART', currency='USD', localSymbol='SPX   240719C05280000', tradingClass='SPX')\n",
      "Error 10090, reqId 92: Part of requested market data is not subscribed. Subscription-independent ticks are still active.Delayed market data is available.SPX S&P 500 Stock Index/TOP/ALL, contract: Option(conId=692909583, symbol='SPX', lastTradeDateOrContractMonth='20240718', strike=5285.0, right='C', multiplier='100', exchange='SMART', currency='USD', localSymbol='SPX   240719C05285000', tradingClass='SPX')\n",
      "Error 10090, reqId 93: Part of requested market data is not subscribed. Subscription-independent ticks are still active.Delayed market data is available.SPX S&P 500 Stock Index/TOP/ALL, contract: Option(conId=681176003, symbol='SPX', lastTradeDateOrContractMonth='20240718', strike=5290.0, right='C', multiplier='100', exchange='SMART', currency='USD', localSymbol='SPX   240719C05290000', tradingClass='SPX')\n",
      "Error 10090, reqId 94: Part of requested market data is not subscribed. Subscription-independent ticks are still active.Delayed market data is available.SPX S&P 500 Stock Index/TOP/ALL, contract: Option(conId=704885243, symbol='SPX', lastTradeDateOrContractMonth='20240815', strike=5255.0, right='C', multiplier='100', exchange='SMART', currency='USD', localSymbol='SPX   240816C05255000', tradingClass='SPX')\n",
      "Error 10090, reqId 95: Part of requested market data is not subscribed. Subscription-independent ticks are still active.Delayed market data is available.SPX S&P 500 Stock Index/TOP/ALL, contract: Option(conId=685384337, symbol='SPX', lastTradeDateOrContractMonth='20240815', strike=5260.0, right='C', multiplier='100', exchange='SMART', currency='USD', localSymbol='SPX   240816C05260000', tradingClass='SPX')\n",
      "Error 10090, reqId 96: Part of requested market data is not subscribed. Subscription-independent ticks are still active.Delayed market data is available.SPX S&P 500 Stock Index/TOP/ALL, contract: Option(conId=704885250, symbol='SPX', lastTradeDateOrContractMonth='20240815', strike=5265.0, right='C', multiplier='100', exchange='SMART', currency='USD', localSymbol='SPX   240816C05265000', tradingClass='SPX')\n",
      "Error 10090, reqId 97: Part of requested market data is not subscribed. Subscription-independent ticks are still active.Delayed market data is available.SPX S&P 500 Stock Index/TOP/ALL, contract: Option(conId=685384347, symbol='SPX', lastTradeDateOrContractMonth='20240815', strike=5270.0, right='C', multiplier='100', exchange='SMART', currency='USD', localSymbol='SPX   240816C05270000', tradingClass='SPX')\n",
      "Error 10090, reqId 98: Part of requested market data is not subscribed. Subscription-independent ticks are still active.Delayed market data is available.SPX S&P 500 Stock Index/TOP/ALL, contract: Option(conId=645972118, symbol='SPX', lastTradeDateOrContractMonth='20240815', strike=5275.0, right='C', multiplier='100', exchange='SMART', currency='USD', localSymbol='SPX   240816C05275000', tradingClass='SPX')\n",
      "Error 10090, reqId 99: Part of requested market data is not subscribed. Subscription-independent ticks are still active.Delayed market data is available.SPX S&P 500 Stock Index/TOP/ALL, contract: Option(conId=685384350, symbol='SPX', lastTradeDateOrContractMonth='20240815', strike=5280.0, right='C', multiplier='100', exchange='SMART', currency='USD', localSymbol='SPX   240816C05280000', tradingClass='SPX')\n",
      "Error 10090, reqId 100: Part of requested market data is not subscribed. Subscription-independent ticks are still active.Delayed market data is available.SPX S&P 500 Stock Index/TOP/ALL, contract: Option(conId=704885276, symbol='SPX', lastTradeDateOrContractMonth='20240815', strike=5285.0, right='C', multiplier='100', exchange='SMART', currency='USD', localSymbol='SPX   240816C05285000', tradingClass='SPX')\n",
      "Error 10090, reqId 101: Part of requested market data is not subscribed. Subscription-independent ticks are still active.Delayed market data is available.SPX S&P 500 Stock Index/TOP/ALL, contract: Option(conId=685384359, symbol='SPX', lastTradeDateOrContractMonth='20240815', strike=5290.0, right='C', multiplier='100', exchange='SMART', currency='USD', localSymbol='SPX   240816C05290000', tradingClass='SPX')\n"
     ]
    },
    {
     "data": {
      "text/plain": [
       "Ticker(contract=Option(conId=689492328, symbol='SPX', lastTradeDateOrContractMonth='20240620', strike=5255.0, right='P', multiplier='100', exchange='SMART', currency='USD', localSymbol='SPX   240621P05255000', tradingClass='SPX'), time=datetime.datetime(2024, 6, 3, 15, 34, 22, 660554, tzinfo=datetime.timezone.utc), marketDataType=3, modelGreeks=OptionComputation(tickAttrib=0, impliedVol=0.12209321934396355, delta=-0.42757615953857586, optPrice=45.88159447068788, pvDividend=5.616839500895427, gamma=0.0027314467801996863, vega=4.615974860260843, theta=-1.2020984631538112, undPrice=5270.5))"
      ]
     },
     "execution_count": 10,
     "metadata": {},
     "output_type": "execute_result"
    },
    {
     "name": "stderr",
     "output_type": "stream",
     "text": [
      "Error 10197, reqId 60: No market data during competing live session\n",
      "Error 10197, reqId 78: No market data during competing live session\n",
      "Error 10197, reqId 98: No market data during competing live session\n",
      "Error 10197, reqId 96: No market data during competing live session\n",
      "Error 10197, reqId 101: No market data during competing live session\n",
      "Error 10197, reqId 97: No market data during competing live session\n",
      "Error 10197, reqId 84: No market data during competing live session\n",
      "Error 10197, reqId 69: No market data during competing live session\n",
      "Error 10197, reqId 72: No market data during competing live session\n",
      "Error 10197, reqId 82: No market data during competing live session\n",
      "Error 10197, reqId 55: No market data during competing live session\n",
      "Error 10197, reqId 85: No market data during competing live session\n",
      "Error 10197, reqId 87: No market data during competing live session\n",
      "Error 10197, reqId 58: No market data during competing live session\n",
      "Error 10197, reqId 77: No market data during competing live session\n",
      "Error 10197, reqId 67: No market data during competing live session\n",
      "Error 10197, reqId 74: No market data during competing live session\n",
      "Error 10197, reqId 62: No market data during competing live session\n",
      "Error 10197, reqId 89: No market data during competing live session\n",
      "Error 10197, reqId 65: No market data during competing live session\n",
      "Error 10197, reqId 76: No market data during competing live session\n",
      "Error 10197, reqId 56: No market data during competing live session\n",
      "Error 10197, reqId 64: No market data during competing live session\n",
      "Error 10197, reqId 66: No market data during competing live session\n",
      "Error 10197, reqId 99: No market data during competing live session\n",
      "Error 10197, reqId 79: No market data during competing live session\n",
      "Error 10197, reqId 75: No market data during competing live session\n",
      "Error 10197, reqId 73: No market data during competing live session\n",
      "Error 10197, reqId 80: No market data during competing live session\n",
      "Error 10197, reqId 81: No market data during competing live session\n",
      "Error 10197, reqId 57: No market data during competing live session\n",
      "Error 10197, reqId 70: No market data during competing live session\n",
      "Error 10197, reqId 68: No market data during competing live session\n",
      "Error 10197, reqId 88: No market data during competing live session\n",
      "Error 10197, reqId 86: No market data during competing live session\n",
      "Error 10197, reqId 59: No market data during competing live session\n",
      "Error 10197, reqId 83: No market data during competing live session\n",
      "Error 10197, reqId 90: No market data during competing live session\n",
      "Error 10197, reqId 54: No market data during competing live session\n",
      "Error 10197, reqId 71: No market data during competing live session\n",
      "Error 10197, reqId 63: No market data during competing live session\n"
     ]
    }
   ],
   "source": [
    "tickers = ib.reqTickers(*contracts)\n",
    "\n",
    "tickers[0]"
   ]
  },
  {
   "cell_type": "markdown",
   "metadata": {},
   "source": [
    "The option greeks are available from the ``modelGreeks`` attribute, and if there is a bid, ask resp. last price available also from ``bidGreeks``, ``askGreeks`` and ``lastGreeks``. For streaming ticks the greek values will be kept up to date to the current market situation."
   ]
  },
  {
   "cell_type": "code",
   "execution_count": 11,
   "metadata": {},
   "outputs": [],
   "source": [
    "ib.disconnect()"
   ]
  }
 ],
 "metadata": {
  "kernelspec": {
   "display_name": "Python 3",
   "language": "python",
   "name": "python3"
  },
  "language_info": {
   "codemirror_mode": {
    "name": "ipython",
    "version": 3
   },
   "file_extension": ".py",
   "mimetype": "text/x-python",
   "name": "python",
   "nbconvert_exporter": "python",
   "pygments_lexer": "ipython3",
   "version": "3.8.8"
  }
 },
 "nbformat": 4,
 "nbformat_minor": 4
}
